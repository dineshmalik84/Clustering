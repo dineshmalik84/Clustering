{
 "cells": [
  {
   "cell_type": "code",
   "execution_count": 62,
   "id": "2cb95456",
   "metadata": {},
   "outputs": [],
   "source": [
    "import numpy as np\n",
    "import pandas as pd\n",
    "import matplotlib.pyplot as plt\n",
    "import seaborn as sns\n",
    "import warnings\n",
    "warnings.filterwarnings('ignore')"
   ]
  },
  {
   "cell_type": "code",
   "execution_count": 63,
   "id": "4c2c7cef",
   "metadata": {},
   "outputs": [],
   "source": [
    "df = pd.read_csv('leaf_data_uci_updated.csv')"
   ]
  },
  {
   "cell_type": "code",
   "execution_count": 64,
   "id": "90cd89e7",
   "metadata": {},
   "outputs": [
    {
     "data": {
      "text/html": [
       "<div>\n",
       "<style scoped>\n",
       "    .dataframe tbody tr th:only-of-type {\n",
       "        vertical-align: middle;\n",
       "    }\n",
       "\n",
       "    .dataframe tbody tr th {\n",
       "        vertical-align: top;\n",
       "    }\n",
       "\n",
       "    .dataframe thead th {\n",
       "        text-align: right;\n",
       "    }\n",
       "</style>\n",
       "<table border=\"1\" class=\"dataframe\">\n",
       "  <thead>\n",
       "    <tr style=\"text-align: right;\">\n",
       "      <th></th>\n",
       "      <th>Eccentricity</th>\n",
       "      <th>Aspect Ratio</th>\n",
       "      <th>Elongation</th>\n",
       "      <th>Solidity</th>\n",
       "      <th>Stochastic Convexity</th>\n",
       "      <th>Isoperimetric Factor</th>\n",
       "      <th>Maximal Indentation Depth</th>\n",
       "      <th>Lobedness</th>\n",
       "      <th>Average Intensity</th>\n",
       "      <th>Average Contrast</th>\n",
       "      <th>Smoothness</th>\n",
       "      <th>Third moment</th>\n",
       "      <th>Uniformity</th>\n",
       "      <th>Entropy</th>\n",
       "    </tr>\n",
       "  </thead>\n",
       "  <tbody>\n",
       "    <tr>\n",
       "      <th>0</th>\n",
       "      <td>0.72694</td>\n",
       "      <td>1.4742</td>\n",
       "      <td>0.32396</td>\n",
       "      <td>0.98535</td>\n",
       "      <td>1.00000</td>\n",
       "      <td>0.83592</td>\n",
       "      <td>0.004657</td>\n",
       "      <td>0.003947</td>\n",
       "      <td>0.047790</td>\n",
       "      <td>0.127950</td>\n",
       "      <td>0.016108</td>\n",
       "      <td>0.005232</td>\n",
       "      <td>0.000275</td>\n",
       "      <td>1.17560</td>\n",
       "    </tr>\n",
       "    <tr>\n",
       "      <th>1</th>\n",
       "      <td>0.74173</td>\n",
       "      <td>1.5257</td>\n",
       "      <td>0.36116</td>\n",
       "      <td>0.98152</td>\n",
       "      <td>0.99825</td>\n",
       "      <td>0.79867</td>\n",
       "      <td>0.005242</td>\n",
       "      <td>0.005002</td>\n",
       "      <td>0.024160</td>\n",
       "      <td>0.090476</td>\n",
       "      <td>0.008119</td>\n",
       "      <td>0.002708</td>\n",
       "      <td>0.000075</td>\n",
       "      <td>0.69659</td>\n",
       "    </tr>\n",
       "    <tr>\n",
       "      <th>2</th>\n",
       "      <td>0.76722</td>\n",
       "      <td>1.5725</td>\n",
       "      <td>0.38998</td>\n",
       "      <td>0.97755</td>\n",
       "      <td>1.00000</td>\n",
       "      <td>0.80812</td>\n",
       "      <td>0.007457</td>\n",
       "      <td>0.010121</td>\n",
       "      <td>0.011897</td>\n",
       "      <td>0.057445</td>\n",
       "      <td>0.003289</td>\n",
       "      <td>0.000921</td>\n",
       "      <td>0.000038</td>\n",
       "      <td>0.44348</td>\n",
       "    </tr>\n",
       "    <tr>\n",
       "      <th>3</th>\n",
       "      <td>0.73797</td>\n",
       "      <td>1.4597</td>\n",
       "      <td>0.35376</td>\n",
       "      <td>0.97566</td>\n",
       "      <td>1.00000</td>\n",
       "      <td>0.81697</td>\n",
       "      <td>0.006877</td>\n",
       "      <td>0.008607</td>\n",
       "      <td>0.015950</td>\n",
       "      <td>0.065491</td>\n",
       "      <td>0.004271</td>\n",
       "      <td>0.001154</td>\n",
       "      <td>0.000066</td>\n",
       "      <td>0.58785</td>\n",
       "    </tr>\n",
       "    <tr>\n",
       "      <th>4</th>\n",
       "      <td>0.82301</td>\n",
       "      <td>1.7707</td>\n",
       "      <td>0.44462</td>\n",
       "      <td>0.97698</td>\n",
       "      <td>1.00000</td>\n",
       "      <td>0.75493</td>\n",
       "      <td>0.007428</td>\n",
       "      <td>0.010042</td>\n",
       "      <td>0.007938</td>\n",
       "      <td>0.045339</td>\n",
       "      <td>0.002051</td>\n",
       "      <td>0.000560</td>\n",
       "      <td>0.000023</td>\n",
       "      <td>0.34214</td>\n",
       "    </tr>\n",
       "  </tbody>\n",
       "</table>\n",
       "</div>"
      ],
      "text/plain": [
       "   Eccentricity  Aspect Ratio  Elongation  Solidity  Stochastic Convexity  \\\n",
       "0       0.72694        1.4742     0.32396   0.98535               1.00000   \n",
       "1       0.74173        1.5257     0.36116   0.98152               0.99825   \n",
       "2       0.76722        1.5725     0.38998   0.97755               1.00000   \n",
       "3       0.73797        1.4597     0.35376   0.97566               1.00000   \n",
       "4       0.82301        1.7707     0.44462   0.97698               1.00000   \n",
       "\n",
       "   Isoperimetric Factor  Maximal Indentation Depth  Lobedness  \\\n",
       "0               0.83592                   0.004657   0.003947   \n",
       "1               0.79867                   0.005242   0.005002   \n",
       "2               0.80812                   0.007457   0.010121   \n",
       "3               0.81697                   0.006877   0.008607   \n",
       "4               0.75493                   0.007428   0.010042   \n",
       "\n",
       "   Average Intensity   Average Contrast  Smoothness   Third moment  \\\n",
       "0           0.047790           0.127950    0.016108       0.005232   \n",
       "1           0.024160           0.090476    0.008119       0.002708   \n",
       "2           0.011897           0.057445    0.003289       0.000921   \n",
       "3           0.015950           0.065491    0.004271       0.001154   \n",
       "4           0.007938           0.045339    0.002051       0.000560   \n",
       "\n",
       "   Uniformity  Entropy  \n",
       "0    0.000275  1.17560  \n",
       "1    0.000075  0.69659  \n",
       "2    0.000038  0.44348  \n",
       "3    0.000066  0.58785  \n",
       "4    0.000023  0.34214  "
      ]
     },
     "execution_count": 64,
     "metadata": {},
     "output_type": "execute_result"
    }
   ],
   "source": [
    "df.head()"
   ]
  },
  {
   "cell_type": "code",
   "execution_count": 65,
   "id": "93670e0d",
   "metadata": {},
   "outputs": [
    {
     "data": {
      "text/plain": [
       "0"
      ]
     },
     "execution_count": 65,
     "metadata": {},
     "output_type": "execute_result"
    }
   ],
   "source": [
    "df.duplicated().sum()"
   ]
  },
  {
   "cell_type": "code",
   "execution_count": 66,
   "id": "dca0bef9",
   "metadata": {},
   "outputs": [
    {
     "data": {
      "text/html": [
       "<div>\n",
       "<style scoped>\n",
       "    .dataframe tbody tr th:only-of-type {\n",
       "        vertical-align: middle;\n",
       "    }\n",
       "\n",
       "    .dataframe tbody tr th {\n",
       "        vertical-align: top;\n",
       "    }\n",
       "\n",
       "    .dataframe thead th {\n",
       "        text-align: right;\n",
       "    }\n",
       "</style>\n",
       "<table border=\"1\" class=\"dataframe\">\n",
       "  <thead>\n",
       "    <tr style=\"text-align: right;\">\n",
       "      <th></th>\n",
       "      <th>Eccentricity</th>\n",
       "      <th>Aspect Ratio</th>\n",
       "      <th>Elongation</th>\n",
       "      <th>Solidity</th>\n",
       "      <th>Stochastic Convexity</th>\n",
       "      <th>Isoperimetric Factor</th>\n",
       "      <th>Maximal Indentation Depth</th>\n",
       "      <th>Lobedness</th>\n",
       "      <th>Average Intensity</th>\n",
       "      <th>Average Contrast</th>\n",
       "      <th>Smoothness</th>\n",
       "      <th>Third moment</th>\n",
       "      <th>Uniformity</th>\n",
       "      <th>Entropy</th>\n",
       "    </tr>\n",
       "  </thead>\n",
       "  <tbody>\n",
       "    <tr>\n",
       "      <th>count</th>\n",
       "      <td>340.000000</td>\n",
       "      <td>340.000000</td>\n",
       "      <td>340.000000</td>\n",
       "      <td>340.000000</td>\n",
       "      <td>340.000000</td>\n",
       "      <td>340.000000</td>\n",
       "      <td>340.000000</td>\n",
       "      <td>340.000000</td>\n",
       "      <td>340.000000</td>\n",
       "      <td>340.000000</td>\n",
       "      <td>340.000000</td>\n",
       "      <td>340.000000</td>\n",
       "      <td>340.000000</td>\n",
       "      <td>340.000000</td>\n",
       "    </tr>\n",
       "    <tr>\n",
       "      <th>mean</th>\n",
       "      <td>0.719854</td>\n",
       "      <td>1.902051</td>\n",
       "      <td>0.513760</td>\n",
       "      <td>0.919101</td>\n",
       "      <td>0.975867</td>\n",
       "      <td>0.531234</td>\n",
       "      <td>0.034647</td>\n",
       "      <td>0.284499</td>\n",
       "      <td>0.051209</td>\n",
       "      <td>0.124535</td>\n",
       "      <td>0.017491</td>\n",
       "      <td>0.005678</td>\n",
       "      <td>0.000356</td>\n",
       "      <td>1.162630</td>\n",
       "    </tr>\n",
       "    <tr>\n",
       "      <th>std</th>\n",
       "      <td>0.208311</td>\n",
       "      <td>0.888783</td>\n",
       "      <td>0.195583</td>\n",
       "      <td>0.075247</td>\n",
       "      <td>0.032506</td>\n",
       "      <td>0.217532</td>\n",
       "      <td>0.031502</td>\n",
       "      <td>0.365318</td>\n",
       "      <td>0.035518</td>\n",
       "      <td>0.051860</td>\n",
       "      <td>0.013189</td>\n",
       "      <td>0.004495</td>\n",
       "      <td>0.000336</td>\n",
       "      <td>0.584854</td>\n",
       "    </tr>\n",
       "    <tr>\n",
       "      <th>min</th>\n",
       "      <td>0.117080</td>\n",
       "      <td>1.006600</td>\n",
       "      <td>0.107610</td>\n",
       "      <td>0.761323</td>\n",
       "      <td>0.915575</td>\n",
       "      <td>0.078376</td>\n",
       "      <td>0.002837</td>\n",
       "      <td>0.001464</td>\n",
       "      <td>0.005022</td>\n",
       "      <td>0.033415</td>\n",
       "      <td>0.001115</td>\n",
       "      <td>0.000229</td>\n",
       "      <td>0.000007</td>\n",
       "      <td>0.169400</td>\n",
       "    </tr>\n",
       "    <tr>\n",
       "      <th>25%</th>\n",
       "      <td>0.550623</td>\n",
       "      <td>1.211300</td>\n",
       "      <td>0.349623</td>\n",
       "      <td>0.890667</td>\n",
       "      <td>0.966230</td>\n",
       "      <td>0.346818</td>\n",
       "      <td>0.009521</td>\n",
       "      <td>0.016500</td>\n",
       "      <td>0.022843</td>\n",
       "      <td>0.083362</td>\n",
       "      <td>0.006901</td>\n",
       "      <td>0.002080</td>\n",
       "      <td>0.000102</td>\n",
       "      <td>0.718900</td>\n",
       "    </tr>\n",
       "    <tr>\n",
       "      <th>50%</th>\n",
       "      <td>0.763450</td>\n",
       "      <td>1.570750</td>\n",
       "      <td>0.501855</td>\n",
       "      <td>0.948130</td>\n",
       "      <td>0.992980</td>\n",
       "      <td>0.579160</td>\n",
       "      <td>0.023860</td>\n",
       "      <td>0.103615</td>\n",
       "      <td>0.042087</td>\n",
       "      <td>0.119375</td>\n",
       "      <td>0.014050</td>\n",
       "      <td>0.004447</td>\n",
       "      <td>0.000239</td>\n",
       "      <td>1.077450</td>\n",
       "    </tr>\n",
       "    <tr>\n",
       "      <th>75%</th>\n",
       "      <td>0.895097</td>\n",
       "      <td>2.343100</td>\n",
       "      <td>0.633373</td>\n",
       "      <td>0.976897</td>\n",
       "      <td>1.000000</td>\n",
       "      <td>0.700713</td>\n",
       "      <td>0.047834</td>\n",
       "      <td>0.416432</td>\n",
       "      <td>0.073046</td>\n",
       "      <td>0.163795</td>\n",
       "      <td>0.026127</td>\n",
       "      <td>0.008307</td>\n",
       "      <td>0.000516</td>\n",
       "      <td>1.554575</td>\n",
       "    </tr>\n",
       "    <tr>\n",
       "      <th>max</th>\n",
       "      <td>0.998710</td>\n",
       "      <td>4.040800</td>\n",
       "      <td>0.948340</td>\n",
       "      <td>0.993880</td>\n",
       "      <td>1.000000</td>\n",
       "      <td>0.858160</td>\n",
       "      <td>0.105303</td>\n",
       "      <td>1.016331</td>\n",
       "      <td>0.148349</td>\n",
       "      <td>0.280810</td>\n",
       "      <td>0.054967</td>\n",
       "      <td>0.017648</td>\n",
       "      <td>0.001137</td>\n",
       "      <td>2.708500</td>\n",
       "    </tr>\n",
       "  </tbody>\n",
       "</table>\n",
       "</div>"
      ],
      "text/plain": [
       "       Eccentricity  Aspect Ratio  Elongation    Solidity  \\\n",
       "count    340.000000    340.000000  340.000000  340.000000   \n",
       "mean       0.719854      1.902051    0.513760    0.919101   \n",
       "std        0.208311      0.888783    0.195583    0.075247   \n",
       "min        0.117080      1.006600    0.107610    0.761323   \n",
       "25%        0.550623      1.211300    0.349623    0.890667   \n",
       "50%        0.763450      1.570750    0.501855    0.948130   \n",
       "75%        0.895097      2.343100    0.633373    0.976897   \n",
       "max        0.998710      4.040800    0.948340    0.993880   \n",
       "\n",
       "       Stochastic Convexity  Isoperimetric Factor  Maximal Indentation Depth  \\\n",
       "count            340.000000            340.000000                 340.000000   \n",
       "mean               0.975867              0.531234                   0.034647   \n",
       "std                0.032506              0.217532                   0.031502   \n",
       "min                0.915575              0.078376                   0.002837   \n",
       "25%                0.966230              0.346818                   0.009521   \n",
       "50%                0.992980              0.579160                   0.023860   \n",
       "75%                1.000000              0.700713                   0.047834   \n",
       "max                1.000000              0.858160                   0.105303   \n",
       "\n",
       "        Lobedness  Average Intensity   Average Contrast  Smoothness  \\\n",
       "count  340.000000         340.000000         340.000000  340.000000   \n",
       "mean     0.284499           0.051209           0.124535    0.017491   \n",
       "std      0.365318           0.035518           0.051860    0.013189   \n",
       "min      0.001464           0.005022           0.033415    0.001115   \n",
       "25%      0.016500           0.022843           0.083362    0.006901   \n",
       "50%      0.103615           0.042087           0.119375    0.014050   \n",
       "75%      0.416432           0.073046           0.163795    0.026127   \n",
       "max      1.016331           0.148349           0.280810    0.054967   \n",
       "\n",
       "        Third moment  Uniformity     Entropy  \n",
       "count     340.000000  340.000000  340.000000  \n",
       "mean        0.005678    0.000356    1.162630  \n",
       "std         0.004495    0.000336    0.584854  \n",
       "min         0.000229    0.000007    0.169400  \n",
       "25%         0.002080    0.000102    0.718900  \n",
       "50%         0.004447    0.000239    1.077450  \n",
       "75%         0.008307    0.000516    1.554575  \n",
       "max         0.017648    0.001137    2.708500  "
      ]
     },
     "execution_count": 66,
     "metadata": {},
     "output_type": "execute_result"
    }
   ],
   "source": [
    "df.describe()"
   ]
  },
  {
   "cell_type": "code",
   "execution_count": 67,
   "id": "9d358cda",
   "metadata": {},
   "outputs": [
    {
     "data": {
      "text/plain": [
       "(340, 14)"
      ]
     },
     "execution_count": 67,
     "metadata": {},
     "output_type": "execute_result"
    }
   ],
   "source": [
    "df.shape"
   ]
  },
  {
   "cell_type": "code",
   "execution_count": 68,
   "id": "b82eb3d9",
   "metadata": {},
   "outputs": [],
   "source": [
    "from sklearn.preprocessing import StandardScaler"
   ]
  },
  {
   "cell_type": "code",
   "execution_count": 69,
   "id": "44e111b5",
   "metadata": {},
   "outputs": [],
   "source": [
    "scaler = StandardScaler()"
   ]
  },
  {
   "cell_type": "code",
   "execution_count": 70,
   "id": "498a9c71",
   "metadata": {},
   "outputs": [],
   "source": [
    "scaled_df = scaler.fit_transform(df)"
   ]
  },
  {
   "cell_type": "code",
   "execution_count": 71,
   "id": "5f135cd2",
   "metadata": {},
   "outputs": [],
   "source": [
    "scaled_df = pd.DataFrame(data=scaled_df, columns=df.columns)"
   ]
  },
  {
   "cell_type": "code",
   "execution_count": 72,
   "id": "94e0fe8f",
   "metadata": {},
   "outputs": [
    {
     "data": {
      "text/html": [
       "<div>\n",
       "<style scoped>\n",
       "    .dataframe tbody tr th:only-of-type {\n",
       "        vertical-align: middle;\n",
       "    }\n",
       "\n",
       "    .dataframe tbody tr th {\n",
       "        vertical-align: top;\n",
       "    }\n",
       "\n",
       "    .dataframe thead th {\n",
       "        text-align: right;\n",
       "    }\n",
       "</style>\n",
       "<table border=\"1\" class=\"dataframe\">\n",
       "  <thead>\n",
       "    <tr style=\"text-align: right;\">\n",
       "      <th></th>\n",
       "      <th>Eccentricity</th>\n",
       "      <th>Aspect Ratio</th>\n",
       "      <th>Elongation</th>\n",
       "      <th>Solidity</th>\n",
       "      <th>Stochastic Convexity</th>\n",
       "      <th>Isoperimetric Factor</th>\n",
       "      <th>Maximal Indentation Depth</th>\n",
       "      <th>Lobedness</th>\n",
       "      <th>Average Intensity</th>\n",
       "      <th>Average Contrast</th>\n",
       "      <th>Smoothness</th>\n",
       "      <th>Third moment</th>\n",
       "      <th>Uniformity</th>\n",
       "      <th>Entropy</th>\n",
       "    </tr>\n",
       "  </thead>\n",
       "  <tbody>\n",
       "    <tr>\n",
       "      <th>count</th>\n",
       "      <td>3.400000e+02</td>\n",
       "      <td>3.400000e+02</td>\n",
       "      <td>3.400000e+02</td>\n",
       "      <td>3.400000e+02</td>\n",
       "      <td>3.400000e+02</td>\n",
       "      <td>3.400000e+02</td>\n",
       "      <td>3.400000e+02</td>\n",
       "      <td>3.400000e+02</td>\n",
       "      <td>3.400000e+02</td>\n",
       "      <td>3.400000e+02</td>\n",
       "      <td>3.400000e+02</td>\n",
       "      <td>3.400000e+02</td>\n",
       "      <td>3.400000e+02</td>\n",
       "      <td>3.400000e+02</td>\n",
       "    </tr>\n",
       "    <tr>\n",
       "      <th>mean</th>\n",
       "      <td>-4.898043e-17</td>\n",
       "      <td>-9.959354e-17</td>\n",
       "      <td>6.269495e-17</td>\n",
       "      <td>-1.256511e-15</td>\n",
       "      <td>-5.440093e-15</td>\n",
       "      <td>-5.694791e-16</td>\n",
       "      <td>-8.620555e-17</td>\n",
       "      <td>9.404242e-17</td>\n",
       "      <td>-5.322540e-17</td>\n",
       "      <td>-1.280022e-16</td>\n",
       "      <td>6.726645e-17</td>\n",
       "      <td>-2.155139e-17</td>\n",
       "      <td>1.718805e-16</td>\n",
       "      <td>1.857991e-16</td>\n",
       "    </tr>\n",
       "    <tr>\n",
       "      <th>std</th>\n",
       "      <td>1.001474e+00</td>\n",
       "      <td>1.001474e+00</td>\n",
       "      <td>1.001474e+00</td>\n",
       "      <td>1.001474e+00</td>\n",
       "      <td>1.001474e+00</td>\n",
       "      <td>1.001474e+00</td>\n",
       "      <td>1.001474e+00</td>\n",
       "      <td>1.001474e+00</td>\n",
       "      <td>1.001474e+00</td>\n",
       "      <td>1.001474e+00</td>\n",
       "      <td>1.001474e+00</td>\n",
       "      <td>1.001474e+00</td>\n",
       "      <td>1.001474e+00</td>\n",
       "      <td>1.001474e+00</td>\n",
       "    </tr>\n",
       "    <tr>\n",
       "      <th>min</th>\n",
       "      <td>-2.897890e+00</td>\n",
       "      <td>-1.008987e+00</td>\n",
       "      <td>-2.079675e+00</td>\n",
       "      <td>-2.099910e+00</td>\n",
       "      <td>-1.857519e+00</td>\n",
       "      <td>-2.084870e+00</td>\n",
       "      <td>-1.011264e+00</td>\n",
       "      <td>-7.759047e-01</td>\n",
       "      <td>-1.302332e+00</td>\n",
       "      <td>-1.759637e+00</td>\n",
       "      <td>-1.243472e+00</td>\n",
       "      <td>-1.214089e+00</td>\n",
       "      <td>-1.038991e+00</td>\n",
       "      <td>-1.700756e+00</td>\n",
       "    </tr>\n",
       "    <tr>\n",
       "      <th>25%</th>\n",
       "      <td>-8.135963e-01</td>\n",
       "      <td>-7.783328e-01</td>\n",
       "      <td>-8.404609e-01</td>\n",
       "      <td>-3.784307e-01</td>\n",
       "      <td>-2.969162e-01</td>\n",
       "      <td>-8.490163e-01</td>\n",
       "      <td>-7.987667e-01</td>\n",
       "      <td>-7.346862e-01</td>\n",
       "      <td>-7.998307e-01</td>\n",
       "      <td>-7.951033e-01</td>\n",
       "      <td>-8.041077e-01</td>\n",
       "      <td>-8.018348e-01</td>\n",
       "      <td>-7.548798e-01</td>\n",
       "      <td>-7.598205e-01</td>\n",
       "    </tr>\n",
       "    <tr>\n",
       "      <th>50%</th>\n",
       "      <td>2.095908e-01</td>\n",
       "      <td>-3.733071e-01</td>\n",
       "      <td>-6.096113e-02</td>\n",
       "      <td>3.863497e-01</td>\n",
       "      <td>5.272104e-01</td>\n",
       "      <td>2.206442e-01</td>\n",
       "      <td>-3.429121e-01</td>\n",
       "      <td>-4.958711e-01</td>\n",
       "      <td>-2.572079e-01</td>\n",
       "      <td>-9.964257e-02</td>\n",
       "      <td>-2.612910e-01</td>\n",
       "      <td>-2.743770e-01</td>\n",
       "      <td>-3.485571e-01</td>\n",
       "      <td>-1.458577e-01</td>\n",
       "    </tr>\n",
       "    <tr>\n",
       "      <th>75%</th>\n",
       "      <td>8.424978e-01</td>\n",
       "      <td>4.969713e-01</td>\n",
       "      <td>6.124684e-01</td>\n",
       "      <td>7.692224e-01</td>\n",
       "      <td>7.434859e-01</td>\n",
       "      <td>7.802487e-01</td>\n",
       "      <td>4.192220e-01</td>\n",
       "      <td>3.616797e-01</td>\n",
       "      <td>6.157102e-01</td>\n",
       "      <td>7.581630e-01</td>\n",
       "      <td>6.557997e-01</td>\n",
       "      <td>5.857537e-01</td>\n",
       "      <td>4.780670e-01</td>\n",
       "      <td>6.711469e-01</td>\n",
       "    </tr>\n",
       "    <tr>\n",
       "      <th>max</th>\n",
       "      <td>1.340624e+00</td>\n",
       "      <td>2.409927e+00</td>\n",
       "      <td>2.225245e+00</td>\n",
       "      <td>9.952461e-01</td>\n",
       "      <td>7.434859e-01</td>\n",
       "      <td>1.505107e+00</td>\n",
       "      <td>2.246205e+00</td>\n",
       "      <td>2.006228e+00</td>\n",
       "      <td>2.739021e+00</td>\n",
       "      <td>3.017868e+00</td>\n",
       "      <td>2.845661e+00</td>\n",
       "      <td>2.667136e+00</td>\n",
       "      <td>2.327487e+00</td>\n",
       "      <td>2.647069e+00</td>\n",
       "    </tr>\n",
       "  </tbody>\n",
       "</table>\n",
       "</div>"
      ],
      "text/plain": [
       "       Eccentricity  Aspect Ratio    Elongation      Solidity  \\\n",
       "count  3.400000e+02  3.400000e+02  3.400000e+02  3.400000e+02   \n",
       "mean  -4.898043e-17 -9.959354e-17  6.269495e-17 -1.256511e-15   \n",
       "std    1.001474e+00  1.001474e+00  1.001474e+00  1.001474e+00   \n",
       "min   -2.897890e+00 -1.008987e+00 -2.079675e+00 -2.099910e+00   \n",
       "25%   -8.135963e-01 -7.783328e-01 -8.404609e-01 -3.784307e-01   \n",
       "50%    2.095908e-01 -3.733071e-01 -6.096113e-02  3.863497e-01   \n",
       "75%    8.424978e-01  4.969713e-01  6.124684e-01  7.692224e-01   \n",
       "max    1.340624e+00  2.409927e+00  2.225245e+00  9.952461e-01   \n",
       "\n",
       "       Stochastic Convexity  Isoperimetric Factor  Maximal Indentation Depth  \\\n",
       "count          3.400000e+02          3.400000e+02               3.400000e+02   \n",
       "mean          -5.440093e-15         -5.694791e-16              -8.620555e-17   \n",
       "std            1.001474e+00          1.001474e+00               1.001474e+00   \n",
       "min           -1.857519e+00         -2.084870e+00              -1.011264e+00   \n",
       "25%           -2.969162e-01         -8.490163e-01              -7.987667e-01   \n",
       "50%            5.272104e-01          2.206442e-01              -3.429121e-01   \n",
       "75%            7.434859e-01          7.802487e-01               4.192220e-01   \n",
       "max            7.434859e-01          1.505107e+00               2.246205e+00   \n",
       "\n",
       "          Lobedness  Average Intensity   Average Contrast    Smoothness  \\\n",
       "count  3.400000e+02       3.400000e+02       3.400000e+02  3.400000e+02   \n",
       "mean   9.404242e-17      -5.322540e-17      -1.280022e-16  6.726645e-17   \n",
       "std    1.001474e+00       1.001474e+00       1.001474e+00  1.001474e+00   \n",
       "min   -7.759047e-01      -1.302332e+00      -1.759637e+00 -1.243472e+00   \n",
       "25%   -7.346862e-01      -7.998307e-01      -7.951033e-01 -8.041077e-01   \n",
       "50%   -4.958711e-01      -2.572079e-01      -9.964257e-02 -2.612910e-01   \n",
       "75%    3.616797e-01       6.157102e-01       7.581630e-01  6.557997e-01   \n",
       "max    2.006228e+00       2.739021e+00       3.017868e+00  2.845661e+00   \n",
       "\n",
       "        Third moment    Uniformity       Entropy  \n",
       "count   3.400000e+02  3.400000e+02  3.400000e+02  \n",
       "mean   -2.155139e-17  1.718805e-16  1.857991e-16  \n",
       "std     1.001474e+00  1.001474e+00  1.001474e+00  \n",
       "min    -1.214089e+00 -1.038991e+00 -1.700756e+00  \n",
       "25%    -8.018348e-01 -7.548798e-01 -7.598205e-01  \n",
       "50%    -2.743770e-01 -3.485571e-01 -1.458577e-01  \n",
       "75%     5.857537e-01  4.780670e-01  6.711469e-01  \n",
       "max     2.667136e+00  2.327487e+00  2.647069e+00  "
      ]
     },
     "execution_count": 72,
     "metadata": {},
     "output_type": "execute_result"
    }
   ],
   "source": [
    "scaled_df.describe()"
   ]
  },
  {
   "cell_type": "markdown",
   "id": "2c6e4a5d",
   "metadata": {},
   "source": [
    "## Hierarchical clustering"
   ]
  },
  {
   "cell_type": "code",
   "execution_count": 73,
   "id": "07536e16",
   "metadata": {},
   "outputs": [],
   "source": [
    "from scipy.cluster.hierarchy import dendrogram, linkage"
   ]
  },
  {
   "cell_type": "code",
   "execution_count": 74,
   "id": "193f01a6",
   "metadata": {},
   "outputs": [],
   "source": [
    "wardlink = linkage(scaled_df, method='ward')"
   ]
  },
  {
   "cell_type": "code",
   "execution_count": 75,
   "id": "9236ba98",
   "metadata": {},
   "outputs": [
    {
     "data": {
      "image/png": "[encoded data removed]",
      "text/plain": [
       "<Figure size 432x288 with 1 Axes>"
      ]
     },
     "metadata": {
      "needs_background": "light"
     },
     "output_type": "display_data"
    }
   ],
   "source": [
    "dend = dendrogram(wardlink)"
   ]
  },
  {
   "cell_type": "code",
   "execution_count": 76,
   "id": "cc222a3f",
   "metadata": {},
   "outputs": [
    {
     "data": {
      "image/png": "[encoded data removed]",
      "text/plain": [
       "<Figure size 432x288 with 1 Axes>"
      ]
     },
     "metadata": {
      "needs_background": "light"
     },
     "output_type": "display_data"
    }
   ],
   "source": [
    "dend = dendrogram(wardlink,\n",
    "                 truncate_mode='lastp',      \n",
    "                 p = 10)"
   ]
  },
  {
   "cell_type": "code",
   "execution_count": 77,
   "id": "8af401f4",
   "metadata": {},
   "outputs": [],
   "source": [
    "from scipy.cluster.hierarchy import fcluster"
   ]
  },
  {
   "cell_type": "code",
   "execution_count": 78,
   "id": "9479caa6",
   "metadata": {},
   "outputs": [
    {
     "data": {
      "text/plain": [
       "array([2, 2, 2, 2, 2, 2, 2, 2, 2, 2, 2, 2, 2, 2, 2, 2, 2, 2, 2, 2, 2, 3,\n",
       "       3, 2, 3, 2, 3, 3, 3, 2, 3, 3, 3, 2, 2, 2, 2, 2, 2, 2, 1, 1, 1, 1,\n",
       "       1, 1, 1, 1, 1, 1, 1, 1, 1, 1, 1, 1, 1, 1, 1, 1, 1, 1, 1, 1, 1, 2,\n",
       "       3, 2, 1, 1, 1, 1, 1, 1, 1, 1, 1, 1, 1, 1, 1, 3, 3, 3, 3, 3, 3, 3,\n",
       "       2, 3, 3, 1, 3, 3, 3, 3, 3, 3, 3, 3, 3, 3, 3, 3, 3, 3, 3, 3, 1, 1,\n",
       "       1, 1, 1, 1, 1, 1, 1, 1, 1, 1, 1, 1, 1, 1, 3, 3, 3, 3, 3, 3, 3, 3,\n",
       "       3, 3, 3, 3, 2, 2, 2, 2, 3, 3, 2, 3, 2, 2, 3, 3, 2, 3, 3, 3, 3, 3,\n",
       "       3, 3, 3, 3, 3, 3, 3, 1, 1, 1, 1, 1, 1, 1, 1, 1, 1, 3, 3, 3, 3, 1,\n",
       "       1, 3, 3, 2, 3, 1, 2, 2, 2, 1, 1, 1, 1, 1, 2, 1, 1, 1, 3, 2, 2, 2,\n",
       "       2, 3, 2, 2, 2, 3, 3, 2, 2, 3, 3, 3, 3, 3, 3, 3, 3, 3, 2, 2, 3, 2,\n",
       "       2, 2, 3, 2, 3, 2, 3, 2, 2, 2, 2, 2, 2, 2, 3, 2, 3, 2, 2, 3, 3, 3,\n",
       "       3, 3, 3, 3, 3, 3, 3, 3, 3, 2, 2, 2, 2, 2, 2, 2, 2, 2, 2, 2, 2, 3,\n",
       "       3, 3, 3, 3, 3, 3, 3, 3, 3, 3, 2, 1, 1, 1, 1, 1, 1, 1, 1, 1, 1, 1,\n",
       "       3, 2, 3, 2, 3, 3, 2, 2, 2, 2, 2, 3, 3, 3, 2, 3, 3, 3, 2, 3, 3, 3,\n",
       "       1, 1, 1, 1, 1, 1, 1, 1, 1, 1, 1, 3, 3, 3, 3, 3, 3, 3, 3, 3, 3, 3,\n",
       "       1, 1, 1, 1, 1, 1, 1, 1, 1, 1], dtype=int32)"
      ]
     },
     "execution_count": 78,
     "metadata": {},
     "output_type": "execute_result"
    }
   ],
   "source": [
    "cluster_h = fcluster(wardlink, 3, criterion='maxclust')\n",
    "cluster_h"
   ]
  },
  {
   "cell_type": "code",
   "execution_count": 79,
   "id": "087522e1",
   "metadata": {},
   "outputs": [],
   "source": [
    "df['cluster_h'] = cluster_h"
   ]
  },
  {
   "cell_type": "code",
   "execution_count": 80,
   "id": "45d92fc2",
   "metadata": {},
   "outputs": [
    {
     "data": {
      "text/html": [
       "<div>\n",
       "<style scoped>\n",
       "    .dataframe tbody tr th:only-of-type {\n",
       "        vertical-align: middle;\n",
       "    }\n",
       "\n",
       "    .dataframe tbody tr th {\n",
       "        vertical-align: top;\n",
       "    }\n",
       "\n",
       "    .dataframe thead th {\n",
       "        text-align: right;\n",
       "    }\n",
       "</style>\n",
       "<table border=\"1\" class=\"dataframe\">\n",
       "  <thead>\n",
       "    <tr style=\"text-align: right;\">\n",
       "      <th></th>\n",
       "      <th>Eccentricity</th>\n",
       "      <th>Aspect Ratio</th>\n",
       "      <th>Elongation</th>\n",
       "      <th>Solidity</th>\n",
       "      <th>Stochastic Convexity</th>\n",
       "      <th>Isoperimetric Factor</th>\n",
       "      <th>Maximal Indentation Depth</th>\n",
       "      <th>Lobedness</th>\n",
       "      <th>Average Intensity</th>\n",
       "      <th>Average Contrast</th>\n",
       "      <th>Smoothness</th>\n",
       "      <th>Third moment</th>\n",
       "      <th>Uniformity</th>\n",
       "      <th>Entropy</th>\n",
       "      <th>cluster_h</th>\n",
       "    </tr>\n",
       "  </thead>\n",
       "  <tbody>\n",
       "    <tr>\n",
       "      <th>0</th>\n",
       "      <td>0.72694</td>\n",
       "      <td>1.4742</td>\n",
       "      <td>0.32396</td>\n",
       "      <td>0.98535</td>\n",
       "      <td>1.00000</td>\n",
       "      <td>0.83592</td>\n",
       "      <td>0.004657</td>\n",
       "      <td>0.003947</td>\n",
       "      <td>0.047790</td>\n",
       "      <td>0.127950</td>\n",
       "      <td>0.016108</td>\n",
       "      <td>0.005232</td>\n",
       "      <td>0.000275</td>\n",
       "      <td>1.17560</td>\n",
       "      <td>2</td>\n",
       "    </tr>\n",
       "    <tr>\n",
       "      <th>1</th>\n",
       "      <td>0.74173</td>\n",
       "      <td>1.5257</td>\n",
       "      <td>0.36116</td>\n",
       "      <td>0.98152</td>\n",
       "      <td>0.99825</td>\n",
       "      <td>0.79867</td>\n",
       "      <td>0.005242</td>\n",
       "      <td>0.005002</td>\n",
       "      <td>0.024160</td>\n",
       "      <td>0.090476</td>\n",
       "      <td>0.008119</td>\n",
       "      <td>0.002708</td>\n",
       "      <td>0.000075</td>\n",
       "      <td>0.69659</td>\n",
       "      <td>2</td>\n",
       "    </tr>\n",
       "    <tr>\n",
       "      <th>2</th>\n",
       "      <td>0.76722</td>\n",
       "      <td>1.5725</td>\n",
       "      <td>0.38998</td>\n",
       "      <td>0.97755</td>\n",
       "      <td>1.00000</td>\n",
       "      <td>0.80812</td>\n",
       "      <td>0.007457</td>\n",
       "      <td>0.010121</td>\n",
       "      <td>0.011897</td>\n",
       "      <td>0.057445</td>\n",
       "      <td>0.003289</td>\n",
       "      <td>0.000921</td>\n",
       "      <td>0.000038</td>\n",
       "      <td>0.44348</td>\n",
       "      <td>2</td>\n",
       "    </tr>\n",
       "    <tr>\n",
       "      <th>3</th>\n",
       "      <td>0.73797</td>\n",
       "      <td>1.4597</td>\n",
       "      <td>0.35376</td>\n",
       "      <td>0.97566</td>\n",
       "      <td>1.00000</td>\n",
       "      <td>0.81697</td>\n",
       "      <td>0.006877</td>\n",
       "      <td>0.008607</td>\n",
       "      <td>0.015950</td>\n",
       "      <td>0.065491</td>\n",
       "      <td>0.004271</td>\n",
       "      <td>0.001154</td>\n",
       "      <td>0.000066</td>\n",
       "      <td>0.58785</td>\n",
       "      <td>2</td>\n",
       "    </tr>\n",
       "    <tr>\n",
       "      <th>4</th>\n",
       "      <td>0.82301</td>\n",
       "      <td>1.7707</td>\n",
       "      <td>0.44462</td>\n",
       "      <td>0.97698</td>\n",
       "      <td>1.00000</td>\n",
       "      <td>0.75493</td>\n",
       "      <td>0.007428</td>\n",
       "      <td>0.010042</td>\n",
       "      <td>0.007938</td>\n",
       "      <td>0.045339</td>\n",
       "      <td>0.002051</td>\n",
       "      <td>0.000560</td>\n",
       "      <td>0.000023</td>\n",
       "      <td>0.34214</td>\n",
       "      <td>2</td>\n",
       "    </tr>\n",
       "  </tbody>\n",
       "</table>\n",
       "</div>"
      ],
      "text/plain": [
       "   Eccentricity  Aspect Ratio  Elongation  Solidity  Stochastic Convexity  \\\n",
       "0       0.72694        1.4742     0.32396   0.98535               1.00000   \n",
       "1       0.74173        1.5257     0.36116   0.98152               0.99825   \n",
       "2       0.76722        1.5725     0.38998   0.97755               1.00000   \n",
       "3       0.73797        1.4597     0.35376   0.97566               1.00000   \n",
       "4       0.82301        1.7707     0.44462   0.97698               1.00000   \n",
       "\n",
       "   Isoperimetric Factor  Maximal Indentation Depth  Lobedness  \\\n",
       "0               0.83592                   0.004657   0.003947   \n",
       "1               0.79867                   0.005242   0.005002   \n",
       "2               0.80812                   0.007457   0.010121   \n",
       "3               0.81697                   0.006877   0.008607   \n",
       "4               0.75493                   0.007428   0.010042   \n",
       "\n",
       "   Average Intensity   Average Contrast  Smoothness   Third moment  \\\n",
       "0           0.047790           0.127950    0.016108       0.005232   \n",
       "1           0.024160           0.090476    0.008119       0.002708   \n",
       "2           0.011897           0.057445    0.003289       0.000921   \n",
       "3           0.015950           0.065491    0.004271       0.001154   \n",
       "4           0.007938           0.045339    0.002051       0.000560   \n",
       "\n",
       "   Uniformity  Entropy  cluster_h  \n",
       "0    0.000275  1.17560          2  \n",
       "1    0.000075  0.69659          2  \n",
       "2    0.000038  0.44348          2  \n",
       "3    0.000066  0.58785          2  \n",
       "4    0.000023  0.34214          2  "
      ]
     },
     "execution_count": 80,
     "metadata": {},
     "output_type": "execute_result"
    }
   ],
   "source": [
    "df.head()"
   ]
  },
  {
   "cell_type": "markdown",
   "id": "8093de24",
   "metadata": {},
   "source": [
    "## K Means Clustering"
   ]
  },
  {
   "cell_type": "code",
   "execution_count": 114,
   "id": "e42c168a",
   "metadata": {},
   "outputs": [],
   "source": [
    "from sklearn.cluster import KMeans"
   ]
  },
  {
   "cell_type": "code",
   "execution_count": 115,
   "id": "dddc7c67",
   "metadata": {},
   "outputs": [],
   "source": [
    "k_means = KMeans(n_clusters = 4,random_state=0)"
   ]
  },
  {
   "cell_type": "code",
   "execution_count": 116,
   "id": "b1342bac",
   "metadata": {},
   "outputs": [
    {
     "data": {
      "text/plain": [
       "KMeans(n_clusters=4, random_state=0)"
      ]
     },
     "execution_count": 116,
     "metadata": {},
     "output_type": "execute_result"
    }
   ],
   "source": [
    "k_means.fit(scaled_df)"
   ]
  },
  {
   "cell_type": "code",
   "execution_count": 117,
   "id": "72f10ecd",
   "metadata": {},
   "outputs": [
    {
     "data": {
      "text/plain": [
       "array([1, 1, 1, 1, 1, 1, 1, 1, 1, 1, 1, 1, 1, 1, 1, 1, 1, 1, 1, 1, 1, 1,\n",
       "       0, 1, 0, 1, 0, 0, 0, 1, 0, 1, 0, 1, 1, 1, 1, 1, 1, 1, 2, 2, 2, 2,\n",
       "       2, 2, 2, 3, 2, 2, 2, 2, 2, 2, 2, 2, 2, 2, 2, 2, 1, 2, 0, 1, 1, 1,\n",
       "       1, 1, 1, 1, 3, 3, 3, 3, 3, 3, 3, 3, 3, 3, 3, 0, 0, 1, 0, 0, 1, 0,\n",
       "       1, 0, 0, 1, 1, 1, 0, 0, 0, 0, 0, 0, 0, 0, 0, 0, 0, 0, 0, 0, 2, 2,\n",
       "       2, 2, 2, 2, 2, 2, 2, 2, 2, 2, 2, 2, 2, 2, 0, 0, 0, 0, 3, 1, 1, 0,\n",
       "       0, 3, 0, 0, 1, 1, 1, 1, 0, 0, 1, 0, 1, 1, 0, 0, 1, 0, 0, 0, 0, 1,\n",
       "       0, 1, 3, 0, 0, 0, 0, 2, 2, 2, 2, 2, 2, 2, 2, 2, 2, 0, 1, 0, 0, 2,\n",
       "       3, 1, 1, 1, 1, 3, 3, 1, 1, 2, 2, 2, 2, 1, 1, 1, 2, 2, 0, 1, 1, 1,\n",
       "       1, 0, 1, 1, 1, 1, 1, 1, 1, 0, 0, 0, 0, 0, 0, 0, 0, 0, 1, 1, 0, 1,\n",
       "       1, 1, 0, 1, 1, 1, 1, 1, 1, 1, 1, 1, 1, 1, 1, 1, 1, 1, 1, 3, 1, 0,\n",
       "       0, 0, 0, 0, 0, 0, 0, 0, 0, 1, 1, 1, 1, 1, 1, 1, 1, 1, 1, 1, 1, 0,\n",
       "       0, 0, 1, 0, 0, 1, 1, 0, 1, 1, 1, 3, 3, 3, 3, 3, 3, 3, 3, 3, 3, 3,\n",
       "       1, 1, 1, 1, 1, 1, 1, 1, 1, 1, 1, 0, 0, 0, 1, 0, 0, 0, 1, 0, 0, 0,\n",
       "       3, 3, 3, 3, 3, 3, 3, 3, 3, 3, 3, 0, 0, 0, 0, 0, 0, 0, 0, 0, 0, 3,\n",
       "       2, 2, 2, 2, 2, 2, 2, 2, 2, 2])"
      ]
     },
     "execution_count": 117,
     "metadata": {},
     "output_type": "execute_result"
    }
   ],
   "source": [
    "k_means.labels_"
   ]
  },
  {
   "cell_type": "code",
   "execution_count": 118,
   "id": "e512654c",
   "metadata": {},
   "outputs": [
    {
     "data": {
      "text/plain": [
       "1895.2525135696262"
      ]
     },
     "execution_count": 118,
     "metadata": {},
     "output_type": "execute_result"
    }
   ],
   "source": [
    "k_means.inertia_"
   ]
  },
  {
   "cell_type": "code",
   "execution_count": 86,
   "id": "3ccbc3ef",
   "metadata": {},
   "outputs": [],
   "source": [
    "k_means = KMeans(n_clusters = 3,random_state=1)"
   ]
  },
  {
   "cell_type": "code",
   "execution_count": 87,
   "id": "9402d4f5",
   "metadata": {},
   "outputs": [
    {
     "data": {
      "text/plain": [
       "KMeans(n_clusters=3, random_state=1)"
      ]
     },
     "execution_count": 87,
     "metadata": {},
     "output_type": "execute_result"
    }
   ],
   "source": [
    "k_means.fit(scaled_df)"
   ]
  },
  {
   "cell_type": "code",
   "execution_count": 88,
   "id": "08c9961c",
   "metadata": {},
   "outputs": [
    {
     "data": {
      "text/plain": [
       "array([2, 2, 2, 2, 2, 2, 2, 2, 2, 2, 2, 2, 2, 2, 2, 2, 2, 2, 2, 2, 2, 2,\n",
       "       1, 2, 1, 2, 1, 1, 1, 2, 1, 2, 1, 2, 2, 2, 2, 2, 2, 2, 0, 0, 0, 0,\n",
       "       0, 0, 0, 0, 0, 0, 1, 0, 0, 0, 0, 0, 0, 0, 0, 0, 2, 0, 2, 2, 2, 2,\n",
       "       2, 2, 2, 2, 2, 2, 2, 2, 2, 2, 2, 2, 2, 2, 2, 1, 1, 2, 1, 1, 2, 1,\n",
       "       2, 1, 1, 2, 2, 2, 1, 1, 1, 1, 1, 1, 1, 1, 1, 1, 1, 1, 1, 1, 0, 0,\n",
       "       0, 0, 0, 0, 0, 0, 0, 0, 0, 0, 0, 0, 0, 0, 1, 1, 1, 1, 2, 2, 2, 1,\n",
       "       1, 2, 1, 2, 2, 2, 2, 2, 1, 1, 2, 1, 2, 2, 1, 1, 2, 1, 1, 1, 1, 2,\n",
       "       2, 2, 2, 2, 1, 1, 2, 0, 1, 0, 0, 0, 0, 0, 0, 0, 0, 2, 2, 1, 1, 0,\n",
       "       0, 2, 2, 2, 2, 0, 2, 2, 2, 0, 0, 0, 0, 2, 2, 2, 0, 0, 1, 2, 2, 2,\n",
       "       2, 1, 2, 2, 2, 1, 2, 2, 2, 1, 1, 1, 1, 1, 1, 1, 1, 1, 2, 2, 1, 2,\n",
       "       2, 2, 1, 2, 2, 2, 2, 2, 2, 2, 2, 2, 2, 2, 2, 2, 2, 2, 2, 2, 2, 1,\n",
       "       1, 1, 1, 1, 1, 1, 1, 1, 1, 2, 2, 2, 2, 2, 2, 2, 2, 2, 2, 2, 2, 1,\n",
       "       1, 1, 2, 1, 1, 2, 2, 1, 2, 2, 2, 0, 0, 0, 2, 2, 0, 0, 0, 0, 0, 0,\n",
       "       2, 2, 2, 2, 2, 2, 2, 2, 2, 2, 2, 1, 1, 1, 2, 1, 1, 1, 2, 1, 1, 1,\n",
       "       2, 2, 2, 0, 2, 2, 2, 2, 2, 2, 0, 1, 1, 1, 1, 1, 1, 1, 1, 1, 1, 2,\n",
       "       0, 0, 0, 0, 0, 0, 1, 0, 0, 0])"
      ]
     },
     "execution_count": 88,
     "metadata": {},
     "output_type": "execute_result"
    }
   ],
   "source": [
    "k_means.labels_"
   ]
  },
  {
   "cell_type": "code",
   "execution_count": 89,
   "id": "a1fbd270",
   "metadata": {},
   "outputs": [
    {
     "data": {
      "text/plain": [
       "2389.284762244628"
      ]
     },
     "execution_count": 89,
     "metadata": {},
     "output_type": "execute_result"
    }
   ],
   "source": [
    "k_means.inertia_"
   ]
  },
  {
   "cell_type": "code",
   "execution_count": 90,
   "id": "0db543df",
   "metadata": {},
   "outputs": [],
   "source": [
    "wss =[] \n",
    "for i in range(1,11):\n",
    "    KM = KMeans(n_clusters=i,random_state=1)\n",
    "    KM.fit(scaled_df)\n",
    "    wss.append(KM.inertia_)"
   ]
  },
  {
   "cell_type": "code",
   "execution_count": 91,
   "id": "dad5a247",
   "metadata": {},
   "outputs": [
    {
     "data": {
      "text/plain": [
       "[4759.999999999998,\n",
       " 3412.257118426089,\n",
       " 2389.284762244628,\n",
       " 1895.2525135696262,\n",
       " 1667.5714728895762,\n",
       " 1444.8253269566706,\n",
       " 1257.5489652813794,\n",
       " 1144.946452173333,\n",
       " 1030.4046425010295,\n",
       " 956.7971722164122]"
      ]
     },
     "execution_count": 91,
     "metadata": {},
     "output_type": "execute_result"
    }
   ],
   "source": [
    "wss"
   ]
  },
  {
   "cell_type": "code",
   "execution_count": 92,
   "id": "2ff3edef",
   "metadata": {},
   "outputs": [
    {
     "data": {
      "image/png": "[encoded data removed]",
      "text/plain": [
       "<Figure size 432x288 with 1 Axes>"
      ]
     },
     "metadata": {
      "needs_background": "light"
     },
     "output_type": "display_data"
    }
   ],
   "source": [
    "plt.plot(range(1,11), wss, marker = 'o');\n",
    "plt.grid()"
   ]
  },
  {
   "cell_type": "code",
   "execution_count": 93,
   "id": "271f90cb",
   "metadata": {},
   "outputs": [],
   "source": [
    "from sklearn.metrics import silhouette_samples, silhouette_score"
   ]
  },
  {
   "cell_type": "code",
   "execution_count": 94,
   "id": "a159f18e",
   "metadata": {},
   "outputs": [],
   "source": [
    "ss = []\n",
    "for k in range(2,11):\n",
    "    sil_km = KMeans(n_clusters=k, random_state=1)\n",
    "    sil_km.fit(scaled_df)\n",
    "    labels = sil_km.labels_\n",
    "    ss.append(silhouette_score(scaled_df,labels))"
   ]
  },
  {
   "cell_type": "code",
   "execution_count": 95,
   "id": "aebba652",
   "metadata": {},
   "outputs": [
    {
     "data": {
      "image/png": "[encoded data removed]",
      "text/plain": [
       "<Figure size 432x288 with 1 Axes>"
      ]
     },
     "metadata": {
      "needs_background": "light"
     },
     "output_type": "display_data"
    }
   ],
   "source": [
    "plt.plot(range(2,11),ss,marker ='o')\n",
    "plt.grid()\n",
    "plt.xlabel('No. of clusters - K')\n",
    "plt.ylabel('Silhoutte Scores');"
   ]
  },
  {
   "cell_type": "code",
   "execution_count": 96,
   "id": "8dd80724",
   "metadata": {},
   "outputs": [],
   "source": [
    "k_means = KMeans(n_clusters = 5,random_state=1)"
   ]
  },
  {
   "cell_type": "code",
   "execution_count": 97,
   "id": "f66066c0",
   "metadata": {},
   "outputs": [
    {
     "data": {
      "text/plain": [
       "KMeans(n_clusters=5, random_state=1)"
      ]
     },
     "execution_count": 97,
     "metadata": {},
     "output_type": "execute_result"
    }
   ],
   "source": [
    "k_means.fit(scaled_df)"
   ]
  },
  {
   "cell_type": "code",
   "execution_count": 98,
   "id": "01f14e35",
   "metadata": {},
   "outputs": [
    {
     "data": {
      "text/plain": [
       "array([1, 1, 1, 1, 1, 1, 1, 1, 1, 1, 1, 1, 1, 1, 1, 1, 1, 1, 1, 1, 1, 1,\n",
       "       3, 1, 3, 1, 3, 3, 3, 1, 3, 1, 3, 1, 1, 1, 1, 1, 1, 1, 2, 2, 2, 2,\n",
       "       4, 2, 2, 0, 4, 4, 4, 4, 2, 2, 2, 2, 2, 2, 2, 2, 1, 2, 3, 1, 1, 1,\n",
       "       1, 1, 1, 1, 0, 0, 0, 0, 0, 0, 0, 0, 0, 0, 0, 3, 3, 1, 3, 3, 1, 3,\n",
       "       1, 3, 3, 1, 1, 1, 3, 3, 3, 3, 3, 3, 3, 3, 3, 3, 3, 3, 3, 3, 2, 2,\n",
       "       2, 2, 2, 2, 2, 2, 2, 2, 2, 2, 2, 2, 2, 2, 3, 3, 3, 3, 0, 1, 1, 3,\n",
       "       3, 0, 3, 3, 1, 1, 1, 1, 3, 3, 1, 3, 1, 1, 3, 3, 1, 3, 3, 3, 3, 1,\n",
       "       3, 1, 0, 3, 3, 3, 3, 2, 4, 4, 4, 2, 4, 4, 4, 4, 4, 3, 1, 3, 3, 2,\n",
       "       0, 1, 1, 1, 1, 0, 0, 1, 1, 2, 2, 2, 2, 1, 1, 1, 2, 2, 3, 1, 1, 1,\n",
       "       1, 3, 1, 1, 1, 1, 1, 1, 1, 3, 3, 3, 3, 3, 3, 3, 3, 3, 1, 1, 3, 1,\n",
       "       1, 1, 3, 1, 1, 1, 1, 1, 1, 1, 1, 1, 1, 1, 1, 1, 1, 1, 1, 0, 1, 3,\n",
       "       3, 3, 3, 3, 3, 3, 3, 3, 3, 1, 1, 1, 1, 1, 1, 1, 1, 1, 1, 1, 1, 3,\n",
       "       3, 3, 1, 3, 3, 1, 1, 3, 1, 1, 1, 0, 0, 0, 0, 0, 0, 0, 0, 0, 0, 0,\n",
       "       1, 1, 1, 1, 1, 1, 1, 1, 1, 1, 1, 3, 3, 3, 1, 3, 3, 3, 1, 3, 3, 3,\n",
       "       0, 0, 0, 0, 0, 0, 0, 0, 0, 0, 0, 3, 3, 3, 3, 3, 3, 3, 3, 3, 3, 0,\n",
       "       4, 4, 4, 4, 4, 4, 4, 4, 2, 4])"
      ]
     },
     "execution_count": 98,
     "metadata": {},
     "output_type": "execute_result"
    }
   ],
   "source": [
    "k_means.labels_"
   ]
  },
  {
   "cell_type": "code",
   "execution_count": 99,
   "id": "f7eb53b6",
   "metadata": {},
   "outputs": [],
   "source": [
    "labels = k_means.labels_"
   ]
  },
  {
   "cell_type": "code",
   "execution_count": 100,
   "id": "0d989573",
   "metadata": {},
   "outputs": [
    {
     "data": {
      "text/plain": [
       "0.3455835745458406"
      ]
     },
     "execution_count": 100,
     "metadata": {},
     "output_type": "execute_result"
    }
   ],
   "source": [
    "silhouette_score(scaled_df,labels)"
   ]
  },
  {
   "cell_type": "code",
   "execution_count": 101,
   "id": "01173579",
   "metadata": {},
   "outputs": [],
   "source": [
    "df['clusters_k'] = labels"
   ]
  },
  {
   "cell_type": "code",
   "execution_count": 102,
   "id": "ddf8d7f6",
   "metadata": {},
   "outputs": [
    {
     "data": {
      "text/html": [
       "<div>\n",
       "<style scoped>\n",
       "    .dataframe tbody tr th:only-of-type {\n",
       "        vertical-align: middle;\n",
       "    }\n",
       "\n",
       "    .dataframe tbody tr th {\n",
       "        vertical-align: top;\n",
       "    }\n",
       "\n",
       "    .dataframe thead th {\n",
       "        text-align: right;\n",
       "    }\n",
       "</style>\n",
       "<table border=\"1\" class=\"dataframe\">\n",
       "  <thead>\n",
       "    <tr style=\"text-align: right;\">\n",
       "      <th></th>\n",
       "      <th>Eccentricity</th>\n",
       "      <th>Aspect Ratio</th>\n",
       "      <th>Elongation</th>\n",
       "      <th>Solidity</th>\n",
       "      <th>Stochastic Convexity</th>\n",
       "      <th>Isoperimetric Factor</th>\n",
       "      <th>Maximal Indentation Depth</th>\n",
       "      <th>Lobedness</th>\n",
       "      <th>Average Intensity</th>\n",
       "      <th>Average Contrast</th>\n",
       "      <th>Smoothness</th>\n",
       "      <th>Third moment</th>\n",
       "      <th>Uniformity</th>\n",
       "      <th>Entropy</th>\n",
       "      <th>cluster_h</th>\n",
       "      <th>clusters_k</th>\n",
       "    </tr>\n",
       "  </thead>\n",
       "  <tbody>\n",
       "    <tr>\n",
       "      <th>0</th>\n",
       "      <td>0.72694</td>\n",
       "      <td>1.4742</td>\n",
       "      <td>0.32396</td>\n",
       "      <td>0.98535</td>\n",
       "      <td>1.00000</td>\n",
       "      <td>0.83592</td>\n",
       "      <td>0.004657</td>\n",
       "      <td>0.003947</td>\n",
       "      <td>0.047790</td>\n",
       "      <td>0.127950</td>\n",
       "      <td>0.016108</td>\n",
       "      <td>0.005232</td>\n",
       "      <td>0.000275</td>\n",
       "      <td>1.17560</td>\n",
       "      <td>2</td>\n",
       "      <td>1</td>\n",
       "    </tr>\n",
       "    <tr>\n",
       "      <th>1</th>\n",
       "      <td>0.74173</td>\n",
       "      <td>1.5257</td>\n",
       "      <td>0.36116</td>\n",
       "      <td>0.98152</td>\n",
       "      <td>0.99825</td>\n",
       "      <td>0.79867</td>\n",
       "      <td>0.005242</td>\n",
       "      <td>0.005002</td>\n",
       "      <td>0.024160</td>\n",
       "      <td>0.090476</td>\n",
       "      <td>0.008119</td>\n",
       "      <td>0.002708</td>\n",
       "      <td>0.000075</td>\n",
       "      <td>0.69659</td>\n",
       "      <td>2</td>\n",
       "      <td>1</td>\n",
       "    </tr>\n",
       "    <tr>\n",
       "      <th>2</th>\n",
       "      <td>0.76722</td>\n",
       "      <td>1.5725</td>\n",
       "      <td>0.38998</td>\n",
       "      <td>0.97755</td>\n",
       "      <td>1.00000</td>\n",
       "      <td>0.80812</td>\n",
       "      <td>0.007457</td>\n",
       "      <td>0.010121</td>\n",
       "      <td>0.011897</td>\n",
       "      <td>0.057445</td>\n",
       "      <td>0.003289</td>\n",
       "      <td>0.000921</td>\n",
       "      <td>0.000038</td>\n",
       "      <td>0.44348</td>\n",
       "      <td>2</td>\n",
       "      <td>1</td>\n",
       "    </tr>\n",
       "    <tr>\n",
       "      <th>3</th>\n",
       "      <td>0.73797</td>\n",
       "      <td>1.4597</td>\n",
       "      <td>0.35376</td>\n",
       "      <td>0.97566</td>\n",
       "      <td>1.00000</td>\n",
       "      <td>0.81697</td>\n",
       "      <td>0.006877</td>\n",
       "      <td>0.008607</td>\n",
       "      <td>0.015950</td>\n",
       "      <td>0.065491</td>\n",
       "      <td>0.004271</td>\n",
       "      <td>0.001154</td>\n",
       "      <td>0.000066</td>\n",
       "      <td>0.58785</td>\n",
       "      <td>2</td>\n",
       "      <td>1</td>\n",
       "    </tr>\n",
       "    <tr>\n",
       "      <th>4</th>\n",
       "      <td>0.82301</td>\n",
       "      <td>1.7707</td>\n",
       "      <td>0.44462</td>\n",
       "      <td>0.97698</td>\n",
       "      <td>1.00000</td>\n",
       "      <td>0.75493</td>\n",
       "      <td>0.007428</td>\n",
       "      <td>0.010042</td>\n",
       "      <td>0.007938</td>\n",
       "      <td>0.045339</td>\n",
       "      <td>0.002051</td>\n",
       "      <td>0.000560</td>\n",
       "      <td>0.000023</td>\n",
       "      <td>0.34214</td>\n",
       "      <td>2</td>\n",
       "      <td>1</td>\n",
       "    </tr>\n",
       "  </tbody>\n",
       "</table>\n",
       "</div>"
      ],
      "text/plain": [
       "   Eccentricity  Aspect Ratio  Elongation  Solidity  Stochastic Convexity  \\\n",
       "0       0.72694        1.4742     0.32396   0.98535               1.00000   \n",
       "1       0.74173        1.5257     0.36116   0.98152               0.99825   \n",
       "2       0.76722        1.5725     0.38998   0.97755               1.00000   \n",
       "3       0.73797        1.4597     0.35376   0.97566               1.00000   \n",
       "4       0.82301        1.7707     0.44462   0.97698               1.00000   \n",
       "\n",
       "   Isoperimetric Factor  Maximal Indentation Depth  Lobedness  \\\n",
       "0               0.83592                   0.004657   0.003947   \n",
       "1               0.79867                   0.005242   0.005002   \n",
       "2               0.80812                   0.007457   0.010121   \n",
       "3               0.81697                   0.006877   0.008607   \n",
       "4               0.75493                   0.007428   0.010042   \n",
       "\n",
       "   Average Intensity   Average Contrast  Smoothness   Third moment  \\\n",
       "0           0.047790           0.127950    0.016108       0.005232   \n",
       "1           0.024160           0.090476    0.008119       0.002708   \n",
       "2           0.011897           0.057445    0.003289       0.000921   \n",
       "3           0.015950           0.065491    0.004271       0.001154   \n",
       "4           0.007938           0.045339    0.002051       0.000560   \n",
       "\n",
       "   Uniformity  Entropy  cluster_h  clusters_k  \n",
       "0    0.000275  1.17560          2           1  \n",
       "1    0.000075  0.69659          2           1  \n",
       "2    0.000038  0.44348          2           1  \n",
       "3    0.000066  0.58785          2           1  \n",
       "4    0.000023  0.34214          2           1  "
      ]
     },
     "execution_count": 102,
     "metadata": {},
     "output_type": "execute_result"
    }
   ],
   "source": [
    "df.head()"
   ]
  },
  {
   "cell_type": "code",
   "execution_count": 109,
   "id": "54cb3637",
   "metadata": {},
   "outputs": [],
   "source": [
    "k_means = KMeans(n_clusters = 2,random_state=0)"
   ]
  },
  {
   "cell_type": "code",
   "execution_count": 110,
   "id": "7fc9433a",
   "metadata": {},
   "outputs": [
    {
     "data": {
      "text/plain": [
       "KMeans(n_clusters=2, random_state=0)"
      ]
     },
     "execution_count": 110,
     "metadata": {},
     "output_type": "execute_result"
    }
   ],
   "source": [
    "k_means.fit(scaled_df)"
   ]
  },
  {
   "cell_type": "code",
   "execution_count": 111,
   "id": "ab8a728b",
   "metadata": {},
   "outputs": [
    {
     "data": {
      "text/plain": [
       "array([1, 1, 1, 1, 1, 1, 1, 1, 1, 1, 1, 1, 1, 1, 1, 1, 1, 1, 1, 1, 1, 1,\n",
       "       1, 1, 1, 1, 1, 1, 1, 1, 1, 1, 1, 1, 1, 1, 1, 1, 1, 1, 0, 0, 0, 0,\n",
       "       0, 0, 0, 0, 0, 0, 0, 0, 0, 0, 0, 0, 0, 0, 0, 0, 1, 0, 1, 1, 1, 1,\n",
       "       1, 1, 1, 1, 1, 1, 1, 1, 1, 1, 1, 1, 0, 1, 1, 1, 1, 1, 1, 1, 1, 1,\n",
       "       1, 1, 1, 1, 1, 1, 1, 1, 1, 1, 1, 1, 1, 1, 1, 1, 1, 1, 1, 1, 0, 0,\n",
       "       0, 0, 0, 0, 0, 0, 0, 0, 0, 0, 0, 0, 0, 0, 1, 1, 1, 1, 1, 1, 1, 1,\n",
       "       1, 1, 1, 1, 1, 1, 1, 1, 1, 1, 1, 1, 1, 1, 1, 1, 1, 1, 1, 1, 1, 1,\n",
       "       1, 1, 1, 1, 1, 1, 1, 0, 0, 0, 0, 0, 0, 0, 0, 0, 0, 1, 1, 1, 1, 0,\n",
       "       0, 1, 1, 1, 1, 0, 1, 1, 1, 0, 0, 0, 0, 1, 1, 0, 0, 0, 1, 1, 1, 1,\n",
       "       1, 1, 1, 1, 1, 1, 1, 1, 1, 1, 1, 1, 1, 1, 1, 1, 1, 1, 1, 1, 1, 1,\n",
       "       1, 1, 1, 1, 1, 1, 1, 1, 1, 1, 1, 1, 1, 1, 1, 1, 1, 1, 1, 1, 1, 1,\n",
       "       1, 1, 1, 1, 1, 1, 1, 1, 1, 1, 1, 1, 1, 1, 1, 1, 1, 1, 1, 1, 1, 1,\n",
       "       1, 1, 1, 1, 1, 1, 1, 1, 1, 1, 1, 0, 0, 0, 1, 0, 0, 0, 0, 0, 0, 0,\n",
       "       1, 1, 1, 1, 1, 1, 1, 1, 1, 1, 1, 1, 1, 1, 1, 1, 1, 1, 1, 1, 1, 1,\n",
       "       0, 0, 0, 0, 0, 1, 1, 1, 0, 0, 0, 1, 1, 1, 1, 1, 1, 1, 1, 1, 1, 1,\n",
       "       0, 0, 0, 0, 0, 0, 0, 0, 0, 0])"
      ]
     },
     "execution_count": 111,
     "metadata": {},
     "output_type": "execute_result"
    }
   ],
   "source": [
    "k_means.labels_"
   ]
  },
  {
   "cell_type": "code",
   "execution_count": 112,
   "id": "ef574d05",
   "metadata": {},
   "outputs": [
    {
     "data": {
      "text/plain": [
       "3412.257118426089"
      ]
     },
     "execution_count": 112,
     "metadata": {},
     "output_type": "execute_result"
    }
   ],
   "source": [
    "k_means.inertia_"
   ]
  },
  {
   "cell_type": "code",
   "execution_count": 113,
   "id": "fac8cf82",
   "metadata": {},
   "outputs": [
    {
     "data": {
      "text/plain": [
       "0.33891969678800427"
      ]
     },
     "execution_count": 113,
     "metadata": {},
     "output_type": "execute_result"
    }
   ],
   "source": [
    "silhouette_score(scaled_df,k_means.labels_)"
   ]
  },
  {
   "cell_type": "code",
   "execution_count": null,
   "id": "11267d66",
   "metadata": {},
   "outputs": [],
   "source": []
  }
 ],
 "metadata": {
  "kernelspec": {
   "display_name": "Python 3",
   "language": "python",
   "name": "python3"
  },
  "language_info": {
   "codemirror_mode": {
    "name": "ipython",
    "version": 3
   },
   "file_extension": ".py",
   "mimetype": "text/x-python",
   "name": "python",
   "nbconvert_exporter": "python",
   "pygments_lexer": "ipython3",
   "version": "3.8.8"
  }
 },
 "nbformat": 4,
 "nbformat_minor": 5
}

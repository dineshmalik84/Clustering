{
 "cells": [
  {
   "cell_type": "code",
   "execution_count": 2,
   "id": "effb083c",
   "metadata": {},
   "outputs": [],
   "source": [
    "import numpy as np\n",
    "import pandas as pd\n",
    "import matplotlib.pyplot as plt"
   ]
  },
  {
   "cell_type": "code",
   "execution_count": 3,
   "id": "3a49006f",
   "metadata": {},
   "outputs": [],
   "source": [
    "df = pd.read_csv('Nutrient Composition Dataset.csv')"
   ]
  },
  {
   "cell_type": "code",
   "execution_count": 4,
   "id": "ab8d382e",
   "metadata": {},
   "outputs": [
    {
     "data": {
      "text/html": [
       "<div>\n",
       "<style scoped>\n",
       "    .dataframe tbody tr th:only-of-type {\n",
       "        vertical-align: middle;\n",
       "    }\n",
       "\n",
       "    .dataframe tbody tr th {\n",
       "        vertical-align: top;\n",
       "    }\n",
       "\n",
       "    .dataframe thead th {\n",
       "        text-align: right;\n",
       "    }\n",
       "</style>\n",
       "<table border=\"1\" class=\"dataframe\">\n",
       "  <thead>\n",
       "    <tr style=\"text-align: right;\">\n",
       "      <th></th>\n",
       "      <th>S.No</th>\n",
       "      <th>Protein</th>\n",
       "      <th>Fat</th>\n",
       "      <th>vitaminC</th>\n",
       "      <th>Fibre</th>\n",
       "      <th>Product</th>\n",
       "    </tr>\n",
       "  </thead>\n",
       "  <tbody>\n",
       "    <tr>\n",
       "      <th>0</th>\n",
       "      <td>1</td>\n",
       "      <td>0.452369</td>\n",
       "      <td>1.170926</td>\n",
       "      <td>1.079271</td>\n",
       "      <td>1.702960</td>\n",
       "      <td>Amaranth leaves, cooked, boiled, drained, with...</td>\n",
       "    </tr>\n",
       "    <tr>\n",
       "      <th>1</th>\n",
       "      <td>2</td>\n",
       "      <td>2.321087</td>\n",
       "      <td>0.706856</td>\n",
       "      <td>0.350088</td>\n",
       "      <td>0.658249</td>\n",
       "      <td>Bacon and beef sticks</td>\n",
       "    </tr>\n",
       "    <tr>\n",
       "      <th>2</th>\n",
       "      <td>3</td>\n",
       "      <td>0.884554</td>\n",
       "      <td>1.186571</td>\n",
       "      <td>2.428544</td>\n",
       "      <td>1.984562</td>\n",
       "      <td>Apples, frozen, unsweetened, unheated (Include...</td>\n",
       "    </tr>\n",
       "    <tr>\n",
       "      <th>3</th>\n",
       "      <td>4</td>\n",
       "      <td>0.715501</td>\n",
       "      <td>0.577599</td>\n",
       "      <td>0.270925</td>\n",
       "      <td>0.369266</td>\n",
       "      <td>Alcoholic beverage, beer, light, BUD LIGHT</td>\n",
       "    </tr>\n",
       "    <tr>\n",
       "      <th>4</th>\n",
       "      <td>5</td>\n",
       "      <td>0.132610</td>\n",
       "      <td>0.544521</td>\n",
       "      <td>0.116884</td>\n",
       "      <td>0.557309</td>\n",
       "      <td>Alcoholic beverage, daiquiri, canned</td>\n",
       "    </tr>\n",
       "  </tbody>\n",
       "</table>\n",
       "</div>"
      ],
      "text/plain": [
       "   S.No   Protein       Fat  vitaminC     Fibre  \\\n",
       "0     1  0.452369  1.170926  1.079271  1.702960   \n",
       "1     2  2.321087  0.706856  0.350088  0.658249   \n",
       "2     3  0.884554  1.186571  2.428544  1.984562   \n",
       "3     4  0.715501  0.577599  0.270925  0.369266   \n",
       "4     5  0.132610  0.544521  0.116884  0.557309   \n",
       "\n",
       "                                             Product  \n",
       "0  Amaranth leaves, cooked, boiled, drained, with...  \n",
       "1                              Bacon and beef sticks  \n",
       "2  Apples, frozen, unsweetened, unheated (Include...  \n",
       "3         Alcoholic beverage, beer, light, BUD LIGHT  \n",
       "4               Alcoholic beverage, daiquiri, canned  "
      ]
     },
     "execution_count": 4,
     "metadata": {},
     "output_type": "execute_result"
    }
   ],
   "source": [
    "df.head()"
   ]
  },
  {
   "cell_type": "code",
   "execution_count": 5,
   "id": "2011783a",
   "metadata": {},
   "outputs": [
    {
     "data": {
      "text/html": [
       "<div>\n",
       "<style scoped>\n",
       "    .dataframe tbody tr th:only-of-type {\n",
       "        vertical-align: middle;\n",
       "    }\n",
       "\n",
       "    .dataframe tbody tr th {\n",
       "        vertical-align: top;\n",
       "    }\n",
       "\n",
       "    .dataframe thead th {\n",
       "        text-align: right;\n",
       "    }\n",
       "</style>\n",
       "<table border=\"1\" class=\"dataframe\">\n",
       "  <thead>\n",
       "    <tr style=\"text-align: right;\">\n",
       "      <th></th>\n",
       "      <th>Protein</th>\n",
       "      <th>Fat</th>\n",
       "      <th>vitaminC</th>\n",
       "      <th>Fibre</th>\n",
       "    </tr>\n",
       "  </thead>\n",
       "  <tbody>\n",
       "    <tr>\n",
       "      <th>0</th>\n",
       "      <td>0.452369</td>\n",
       "      <td>1.170926</td>\n",
       "      <td>1.079271</td>\n",
       "      <td>1.702960</td>\n",
       "    </tr>\n",
       "    <tr>\n",
       "      <th>1</th>\n",
       "      <td>2.321087</td>\n",
       "      <td>0.706856</td>\n",
       "      <td>0.350088</td>\n",
       "      <td>0.658249</td>\n",
       "    </tr>\n",
       "    <tr>\n",
       "      <th>2</th>\n",
       "      <td>0.884554</td>\n",
       "      <td>1.186571</td>\n",
       "      <td>2.428544</td>\n",
       "      <td>1.984562</td>\n",
       "    </tr>\n",
       "    <tr>\n",
       "      <th>3</th>\n",
       "      <td>0.715501</td>\n",
       "      <td>0.577599</td>\n",
       "      <td>0.270925</td>\n",
       "      <td>0.369266</td>\n",
       "    </tr>\n",
       "    <tr>\n",
       "      <th>4</th>\n",
       "      <td>0.132610</td>\n",
       "      <td>0.544521</td>\n",
       "      <td>0.116884</td>\n",
       "      <td>0.557309</td>\n",
       "    </tr>\n",
       "  </tbody>\n",
       "</table>\n",
       "</div>"
      ],
      "text/plain": [
       "    Protein       Fat  vitaminC     Fibre\n",
       "0  0.452369  1.170926  1.079271  1.702960\n",
       "1  2.321087  0.706856  0.350088  0.658249\n",
       "2  0.884554  1.186571  2.428544  1.984562\n",
       "3  0.715501  0.577599  0.270925  0.369266\n",
       "4  0.132610  0.544521  0.116884  0.557309"
      ]
     },
     "execution_count": 5,
     "metadata": {},
     "output_type": "execute_result"
    }
   ],
   "source": [
    "df1 = df.iloc[:,1:5]\n",
    "df1.head()"
   ]
  },
  {
   "cell_type": "code",
   "execution_count": 6,
   "id": "e1665e8a",
   "metadata": {},
   "outputs": [],
   "source": [
    "from scipy.cluster.hierarchy import dendrogram, linkage"
   ]
  },
  {
   "cell_type": "code",
   "execution_count": 7,
   "id": "c3525dcc",
   "metadata": {},
   "outputs": [],
   "source": [
    "wardlink = linkage(df1, method='ward')"
   ]
  },
  {
   "cell_type": "code",
   "execution_count": 9,
   "id": "efc42a06",
   "metadata": {},
   "outputs": [
    {
     "data": {
      "image/png": "[encoded data removed]",
      "text/plain": [
       "<Figure size 432x288 with 1 Axes>"
      ]
     },
     "metadata": {
      "needs_background": "light"
     },
     "output_type": "display_data"
    }
   ],
   "source": [
    "dend = dendrogram(wardlink)"
   ]
  },
  {
   "cell_type": "code",
   "execution_count": 10,
   "id": "cffa6b4d",
   "metadata": {},
   "outputs": [
    {
     "data": {
      "image/png": "[encoded data removed]",
      "text/plain": [
       "<Figure size 432x288 with 1 Axes>"
      ]
     },
     "metadata": {
      "needs_background": "light"
     },
     "output_type": "display_data"
    }
   ],
   "source": [
    "dend = dendrogram(wardlink, truncate_mode='lastp', p=10)"
   ]
  },
  {
   "cell_type": "code",
   "execution_count": 11,
   "id": "93164456",
   "metadata": {},
   "outputs": [],
   "source": [
    "from scipy.cluster.hierarchy import fcluster"
   ]
  },
  {
   "cell_type": "code",
   "execution_count": 12,
   "id": "8614efa3",
   "metadata": {},
   "outputs": [
    {
     "data": {
      "text/plain": [
       "array([1, 1, 2, ..., 1, 1, 3], dtype=int32)"
      ]
     },
     "execution_count": 12,
     "metadata": {},
     "output_type": "execute_result"
    }
   ],
   "source": [
    "#method 1\n",
    "clusters = fcluster(wardlink, 3,criterion='maxclust')\n",
    "clusters"
   ]
  },
  {
   "cell_type": "code",
   "execution_count": 13,
   "id": "42801663",
   "metadata": {},
   "outputs": [
    {
     "data": {
      "text/plain": [
       "array([1, 1, 2, ..., 1, 1, 3], dtype=int32)"
      ]
     },
     "execution_count": 13,
     "metadata": {},
     "output_type": "execute_result"
    }
   ],
   "source": [
    "#method 2\n",
    "clusters = fcluster(wardlink, 22,criterion='distance')\n",
    "clusters"
   ]
  },
  {
   "cell_type": "code",
   "execution_count": 14,
   "id": "55ac2464",
   "metadata": {},
   "outputs": [
    {
     "data": {
      "text/html": [
       "<div>\n",
       "<style scoped>\n",
       "    .dataframe tbody tr th:only-of-type {\n",
       "        vertical-align: middle;\n",
       "    }\n",
       "\n",
       "    .dataframe tbody tr th {\n",
       "        vertical-align: top;\n",
       "    }\n",
       "\n",
       "    .dataframe thead th {\n",
       "        text-align: right;\n",
       "    }\n",
       "</style>\n",
       "<table border=\"1\" class=\"dataframe\">\n",
       "  <thead>\n",
       "    <tr style=\"text-align: right;\">\n",
       "      <th></th>\n",
       "      <th>S.No</th>\n",
       "      <th>Protein</th>\n",
       "      <th>Fat</th>\n",
       "      <th>vitaminC</th>\n",
       "      <th>Fibre</th>\n",
       "      <th>Product</th>\n",
       "      <th>clusters</th>\n",
       "    </tr>\n",
       "  </thead>\n",
       "  <tbody>\n",
       "    <tr>\n",
       "      <th>0</th>\n",
       "      <td>1</td>\n",
       "      <td>0.452369</td>\n",
       "      <td>1.170926</td>\n",
       "      <td>1.079271</td>\n",
       "      <td>1.702960</td>\n",
       "      <td>Amaranth leaves, cooked, boiled, drained, with...</td>\n",
       "      <td>1</td>\n",
       "    </tr>\n",
       "    <tr>\n",
       "      <th>1</th>\n",
       "      <td>2</td>\n",
       "      <td>2.321087</td>\n",
       "      <td>0.706856</td>\n",
       "      <td>0.350088</td>\n",
       "      <td>0.658249</td>\n",
       "      <td>Bacon and beef sticks</td>\n",
       "      <td>1</td>\n",
       "    </tr>\n",
       "    <tr>\n",
       "      <th>2</th>\n",
       "      <td>3</td>\n",
       "      <td>0.884554</td>\n",
       "      <td>1.186571</td>\n",
       "      <td>2.428544</td>\n",
       "      <td>1.984562</td>\n",
       "      <td>Apples, frozen, unsweetened, unheated (Include...</td>\n",
       "      <td>2</td>\n",
       "    </tr>\n",
       "    <tr>\n",
       "      <th>3</th>\n",
       "      <td>4</td>\n",
       "      <td>0.715501</td>\n",
       "      <td>0.577599</td>\n",
       "      <td>0.270925</td>\n",
       "      <td>0.369266</td>\n",
       "      <td>Alcoholic beverage, beer, light, BUD LIGHT</td>\n",
       "      <td>1</td>\n",
       "    </tr>\n",
       "    <tr>\n",
       "      <th>4</th>\n",
       "      <td>5</td>\n",
       "      <td>0.132610</td>\n",
       "      <td>0.544521</td>\n",
       "      <td>0.116884</td>\n",
       "      <td>0.557309</td>\n",
       "      <td>Alcoholic beverage, daiquiri, canned</td>\n",
       "      <td>1</td>\n",
       "    </tr>\n",
       "  </tbody>\n",
       "</table>\n",
       "</div>"
      ],
      "text/plain": [
       "   S.No   Protein       Fat  vitaminC     Fibre  \\\n",
       "0     1  0.452369  1.170926  1.079271  1.702960   \n",
       "1     2  2.321087  0.706856  0.350088  0.658249   \n",
       "2     3  0.884554  1.186571  2.428544  1.984562   \n",
       "3     4  0.715501  0.577599  0.270925  0.369266   \n",
       "4     5  0.132610  0.544521  0.116884  0.557309   \n",
       "\n",
       "                                             Product  clusters  \n",
       "0  Amaranth leaves, cooked, boiled, drained, with...         1  \n",
       "1                              Bacon and beef sticks         1  \n",
       "2  Apples, frozen, unsweetened, unheated (Include...         2  \n",
       "3         Alcoholic beverage, beer, light, BUD LIGHT         1  \n",
       "4               Alcoholic beverage, daiquiri, canned         1  "
      ]
     },
     "execution_count": 14,
     "metadata": {},
     "output_type": "execute_result"
    }
   ],
   "source": [
    "df['clusters'] = clusters\n",
    "df.head()"
   ]
  },
  {
   "cell_type": "code",
   "execution_count": 15,
   "id": "4e3885cf",
   "metadata": {},
   "outputs": [],
   "source": [
    "df.to_csv('Nutrient Composition Dataset_hierarchical.csv')"
   ]
  },
  {
   "cell_type": "code",
   "execution_count": null,
   "id": "6154b129",
   "metadata": {},
   "outputs": [],
   "source": []
  }
 ],
 "metadata": {
  "kernelspec": {
   "display_name": "Python 3 (ipykernel)",
   "language": "python",
   "name": "python3"
  },
  "language_info": {
   "codemirror_mode": {
    "name": "ipython",
    "version": 3
   },
   "file_extension": ".py",
   "mimetype": "text/x-python",
   "name": "python",
   "nbconvert_exporter": "python",
   "pygments_lexer": "ipython3",
   "version": "3.9.12"
  }
 },
 "nbformat": 4,
 "nbformat_minor": 5
}

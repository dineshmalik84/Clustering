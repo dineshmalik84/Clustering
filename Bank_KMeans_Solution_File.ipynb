{
 "cells": [
  {
   "cell_type": "markdown",
   "metadata": {},
   "source": [
    "# Bank dataset\n",
    "\n",
    "We have a transaction details of 515 branches which include number of DD taken, Withdrawals, Deposits, Area of the branch and Average Walk-Ins. Profile the banks into segments and come up with recommendations for each segment."
   ]
  },
  {
   "cell_type": "markdown",
   "metadata": {},
   "source": [
    "# Import libraries and load data"
   ]
  },
  {
   "cell_type": "code",
   "execution_count": 1,
   "metadata": {
    "ExecuteTime": {
     "end_time": "2021-09-18T05:09:38.913964Z",
     "start_time": "2021-09-18T05:09:33.685920Z"
    }
   },
   "outputs": [],
   "source": [
    "import pandas as pd\n",
    "from sklearn.cluster import KMeans # for KMeans clustering\n",
    "import matplotlib.pyplot as plt\n",
    "import seaborn as sns\n",
    "sns.set(style = 'darkgrid')\n",
    "import warnings\n",
    "warnings.filterwarnings('ignore')"
   ]
  },
  {
   "cell_type": "code",
   "execution_count": 2,
   "metadata": {
    "ExecuteTime": {
     "end_time": "2021-09-18T05:09:40.364151Z",
     "start_time": "2021-09-18T05:09:40.344203Z"
    }
   },
   "outputs": [],
   "source": [
    "data_df = pd.read_csv(\"bank.csv\")"
   ]
  },
  {
   "cell_type": "markdown",
   "metadata": {},
   "source": [
    "# Checking the data"
   ]
  },
  {
   "cell_type": "code",
   "execution_count": 3,
   "metadata": {
    "ExecuteTime": {
     "end_time": "2021-09-18T05:09:44.317821Z",
     "start_time": "2021-09-18T05:09:44.282913Z"
    }
   },
   "outputs": [
    {
     "data": {
      "text/html": [
       "<div>\n",
       "<style scoped>\n",
       "    .dataframe tbody tr th:only-of-type {\n",
       "        vertical-align: middle;\n",
       "    }\n",
       "\n",
       "    .dataframe tbody tr th {\n",
       "        vertical-align: top;\n",
       "    }\n",
       "\n",
       "    .dataframe thead th {\n",
       "        text-align: right;\n",
       "    }\n",
       "</style>\n",
       "<table border=\"1\" class=\"dataframe\">\n",
       "  <thead>\n",
       "    <tr style=\"text-align: right;\">\n",
       "      <th></th>\n",
       "      <th>Bank</th>\n",
       "      <th>DD</th>\n",
       "      <th>Withdrawals</th>\n",
       "      <th>Deposits</th>\n",
       "      <th>Branch Area in sqft</th>\n",
       "      <th>avg daily walkins</th>\n",
       "    </tr>\n",
       "  </thead>\n",
       "  <tbody>\n",
       "    <tr>\n",
       "      <th>0</th>\n",
       "      <td>1</td>\n",
       "      <td>227</td>\n",
       "      <td>147</td>\n",
       "      <td>111</td>\n",
       "      <td>2460</td>\n",
       "      <td>639</td>\n",
       "    </tr>\n",
       "    <tr>\n",
       "      <th>1</th>\n",
       "      <td>2</td>\n",
       "      <td>123</td>\n",
       "      <td>86</td>\n",
       "      <td>65</td>\n",
       "      <td>3510</td>\n",
       "      <td>436</td>\n",
       "    </tr>\n",
       "    <tr>\n",
       "      <th>2</th>\n",
       "      <td>3</td>\n",
       "      <td>306</td>\n",
       "      <td>149</td>\n",
       "      <td>76</td>\n",
       "      <td>2570</td>\n",
       "      <td>669</td>\n",
       "    </tr>\n",
       "    <tr>\n",
       "      <th>3</th>\n",
       "      <td>4</td>\n",
       "      <td>251</td>\n",
       "      <td>112</td>\n",
       "      <td>129</td>\n",
       "      <td>3650</td>\n",
       "      <td>623</td>\n",
       "    </tr>\n",
       "    <tr>\n",
       "      <th>4</th>\n",
       "      <td>5</td>\n",
       "      <td>174</td>\n",
       "      <td>135</td>\n",
       "      <td>128</td>\n",
       "      <td>3400</td>\n",
       "      <td>579</td>\n",
       "    </tr>\n",
       "  </tbody>\n",
       "</table>\n",
       "</div>"
      ],
      "text/plain": [
       "   Bank   DD  Withdrawals  Deposits  Branch Area in sqft  avg daily walkins\n",
       "0     1  227          147       111                 2460                639\n",
       "1     2  123           86        65                 3510                436\n",
       "2     3  306          149        76                 2570                669\n",
       "3     4  251          112       129                 3650                623\n",
       "4     5  174          135       128                 3400                579"
      ]
     },
     "execution_count": 3,
     "metadata": {},
     "output_type": "execute_result"
    }
   ],
   "source": [
    "data_df.head()"
   ]
  },
  {
   "cell_type": "code",
   "execution_count": 4,
   "metadata": {
    "ExecuteTime": {
     "end_time": "2021-09-18T05:09:49.019192Z",
     "start_time": "2021-09-18T05:09:49.009603Z"
    }
   },
   "outputs": [
    {
     "data": {
      "text/plain": [
       "(515, 6)"
      ]
     },
     "execution_count": 4,
     "metadata": {},
     "output_type": "execute_result"
    }
   ],
   "source": [
    "data_df.shape"
   ]
  },
  {
   "cell_type": "code",
   "execution_count": 5,
   "metadata": {
    "ExecuteTime": {
     "end_time": "2021-09-18T05:10:08.094433Z",
     "start_time": "2021-09-18T05:10:08.057168Z"
    }
   },
   "outputs": [
    {
     "name": "stdout",
     "output_type": "stream",
     "text": [
      "<class 'pandas.core.frame.DataFrame'>\n",
      "RangeIndex: 515 entries, 0 to 514\n",
      "Data columns (total 6 columns):\n",
      " #   Column               Non-Null Count  Dtype\n",
      "---  ------               --------------  -----\n",
      " 0   Bank                 515 non-null    int64\n",
      " 1   DD                   515 non-null    int64\n",
      " 2   Withdrawals          515 non-null    int64\n",
      " 3   Deposits             515 non-null    int64\n",
      " 4   Branch Area in sqft  515 non-null    int64\n",
      " 5   avg daily walkins    515 non-null    int64\n",
      "dtypes: int64(6)\n",
      "memory usage: 24.3 KB\n"
     ]
    }
   ],
   "source": [
    "data_df.info()"
   ]
  },
  {
   "cell_type": "markdown",
   "metadata": {},
   "source": [
    "# Checking Summary Statistic"
   ]
  },
  {
   "cell_type": "code",
   "execution_count": 6,
   "metadata": {
    "ExecuteTime": {
     "end_time": "2021-09-18T05:10:25.261338Z",
     "start_time": "2021-09-18T05:10:25.172982Z"
    }
   },
   "outputs": [
    {
     "data": {
      "text/html": [
       "<div>\n",
       "<style scoped>\n",
       "    .dataframe tbody tr th:only-of-type {\n",
       "        vertical-align: middle;\n",
       "    }\n",
       "\n",
       "    .dataframe tbody tr th {\n",
       "        vertical-align: top;\n",
       "    }\n",
       "\n",
       "    .dataframe thead th {\n",
       "        text-align: right;\n",
       "    }\n",
       "</style>\n",
       "<table border=\"1\" class=\"dataframe\">\n",
       "  <thead>\n",
       "    <tr style=\"text-align: right;\">\n",
       "      <th></th>\n",
       "      <th>DD</th>\n",
       "      <th>Withdrawals</th>\n",
       "      <th>Deposits</th>\n",
       "      <th>Branch Area in sqft</th>\n",
       "      <th>avg daily walkins</th>\n",
       "    </tr>\n",
       "  </thead>\n",
       "  <tbody>\n",
       "    <tr>\n",
       "      <th>count</th>\n",
       "      <td>515.0</td>\n",
       "      <td>515.0</td>\n",
       "      <td>515.0</td>\n",
       "      <td>515.0</td>\n",
       "      <td>515.0</td>\n",
       "    </tr>\n",
       "    <tr>\n",
       "      <th>mean</th>\n",
       "      <td>232.0</td>\n",
       "      <td>151.0</td>\n",
       "      <td>82.0</td>\n",
       "      <td>2935.0</td>\n",
       "      <td>599.0</td>\n",
       "    </tr>\n",
       "    <tr>\n",
       "      <th>std</th>\n",
       "      <td>67.0</td>\n",
       "      <td>57.0</td>\n",
       "      <td>29.0</td>\n",
       "      <td>437.0</td>\n",
       "      <td>83.0</td>\n",
       "    </tr>\n",
       "    <tr>\n",
       "      <th>min</th>\n",
       "      <td>120.0</td>\n",
       "      <td>10.0</td>\n",
       "      <td>33.0</td>\n",
       "      <td>1200.0</td>\n",
       "      <td>380.0</td>\n",
       "    </tr>\n",
       "    <tr>\n",
       "      <th>25%</th>\n",
       "      <td>170.0</td>\n",
       "      <td>103.0</td>\n",
       "      <td>58.0</td>\n",
       "      <td>2675.0</td>\n",
       "      <td>538.0</td>\n",
       "    </tr>\n",
       "    <tr>\n",
       "      <th>50%</th>\n",
       "      <td>237.0</td>\n",
       "      <td>152.0</td>\n",
       "      <td>80.0</td>\n",
       "      <td>2960.0</td>\n",
       "      <td>601.0</td>\n",
       "    </tr>\n",
       "    <tr>\n",
       "      <th>75%</th>\n",
       "      <td>291.0</td>\n",
       "      <td>200.0</td>\n",
       "      <td>105.0</td>\n",
       "      <td>3300.0</td>\n",
       "      <td>658.0</td>\n",
       "    </tr>\n",
       "    <tr>\n",
       "      <th>max</th>\n",
       "      <td>350.0</td>\n",
       "      <td>247.0</td>\n",
       "      <td>212.0</td>\n",
       "      <td>3650.0</td>\n",
       "      <td>838.0</td>\n",
       "    </tr>\n",
       "  </tbody>\n",
       "</table>\n",
       "</div>"
      ],
      "text/plain": [
       "          DD  Withdrawals  Deposits  Branch Area in sqft  avg daily walkins\n",
       "count  515.0        515.0     515.0                515.0              515.0\n",
       "mean   232.0        151.0      82.0               2935.0              599.0\n",
       "std     67.0         57.0      29.0                437.0               83.0\n",
       "min    120.0         10.0      33.0               1200.0              380.0\n",
       "25%    170.0        103.0      58.0               2675.0              538.0\n",
       "50%    237.0        152.0      80.0               2960.0              601.0\n",
       "75%    291.0        200.0     105.0               3300.0              658.0\n",
       "max    350.0        247.0     212.0               3650.0              838.0"
      ]
     },
     "execution_count": 6,
     "metadata": {},
     "output_type": "execute_result"
    }
   ],
   "source": [
    "data_df.iloc[:,1:].describe().round(0)"
   ]
  },
  {
   "cell_type": "markdown",
   "metadata": {},
   "source": [
    "# Checking for Duplicates"
   ]
  },
  {
   "cell_type": "code",
   "execution_count": 7,
   "metadata": {
    "ExecuteTime": {
     "end_time": "2021-09-18T05:10:49.092194Z",
     "start_time": "2021-09-18T05:10:49.067756Z"
    }
   },
   "outputs": [
    {
     "data": {
      "text/plain": [
       "0"
      ]
     },
     "execution_count": 7,
     "metadata": {},
     "output_type": "execute_result"
    }
   ],
   "source": [
    "data_df.duplicated().sum()"
   ]
  },
  {
   "cell_type": "markdown",
   "metadata": {},
   "source": [
    "There are no Duplicates in the dataset"
   ]
  },
  {
   "cell_type": "markdown",
   "metadata": {},
   "source": [
    "# Scaling the data"
   ]
  },
  {
   "cell_type": "code",
   "execution_count": 8,
   "metadata": {
    "ExecuteTime": {
     "end_time": "2021-09-18T05:12:05.442795Z",
     "start_time": "2021-09-18T05:12:05.424842Z"
    }
   },
   "outputs": [],
   "source": [
    "# importing the StandardScaler Module\n",
    "from sklearn.preprocessing import StandardScaler"
   ]
  },
  {
   "cell_type": "code",
   "execution_count": 13,
   "metadata": {
    "ExecuteTime": {
     "end_time": "2021-09-18T05:15:09.494018Z",
     "start_time": "2021-09-18T05:15:09.474071Z"
    }
   },
   "outputs": [],
   "source": [
    "# Creating an object for the StandardScaler function\n",
    "scaler = StandardScaler()"
   ]
  },
  {
   "cell_type": "code",
   "execution_count": 14,
   "metadata": {
    "ExecuteTime": {
     "end_time": "2021-09-18T05:15:57.036144Z",
     "start_time": "2021-09-18T05:15:57.018681Z"
    }
   },
   "outputs": [],
   "source": [
    "scaled_data = scaler.fit_transform(data_df.iloc[:,1:6]) # output is an array without the column names\n",
    "scaled_df = pd.DataFrame(scaled_data,\n",
    "                         columns=data_df.columns[1:])"
   ]
  },
  {
   "cell_type": "code",
   "execution_count": 15,
   "metadata": {
    "ExecuteTime": {
     "end_time": "2021-09-18T05:15:59.026738Z",
     "start_time": "2021-09-18T05:15:58.987981Z"
    }
   },
   "outputs": [
    {
     "data": {
      "text/html": [
       "<div>\n",
       "<style scoped>\n",
       "    .dataframe tbody tr th:only-of-type {\n",
       "        vertical-align: middle;\n",
       "    }\n",
       "\n",
       "    .dataframe tbody tr th {\n",
       "        vertical-align: top;\n",
       "    }\n",
       "\n",
       "    .dataframe thead th {\n",
       "        text-align: right;\n",
       "    }\n",
       "</style>\n",
       "<table border=\"1\" class=\"dataframe\">\n",
       "  <thead>\n",
       "    <tr style=\"text-align: right;\">\n",
       "      <th></th>\n",
       "      <th>DD</th>\n",
       "      <th>Withdrawals</th>\n",
       "      <th>Deposits</th>\n",
       "      <th>Branch Area in sqft</th>\n",
       "      <th>avg daily walkins</th>\n",
       "    </tr>\n",
       "  </thead>\n",
       "  <tbody>\n",
       "    <tr>\n",
       "      <th>0</th>\n",
       "      <td>-0.078884</td>\n",
       "      <td>-0.064973</td>\n",
       "      <td>1.026024</td>\n",
       "      <td>-1.087101</td>\n",
       "      <td>0.484326</td>\n",
       "    </tr>\n",
       "    <tr>\n",
       "      <th>1</th>\n",
       "      <td>-1.640819</td>\n",
       "      <td>-1.138113</td>\n",
       "      <td>-0.584105</td>\n",
       "      <td>1.317635</td>\n",
       "      <td>-1.949528</td>\n",
       "    </tr>\n",
       "    <tr>\n",
       "      <th>2</th>\n",
       "      <td>1.107586</td>\n",
       "      <td>-0.029788</td>\n",
       "      <td>-0.199074</td>\n",
       "      <td>-0.835176</td>\n",
       "      <td>0.844009</td>\n",
       "    </tr>\n",
       "    <tr>\n",
       "      <th>3</th>\n",
       "      <td>0.281562</td>\n",
       "      <td>-0.680709</td>\n",
       "      <td>1.656075</td>\n",
       "      <td>1.638267</td>\n",
       "      <td>0.292496</td>\n",
       "    </tr>\n",
       "    <tr>\n",
       "      <th>4</th>\n",
       "      <td>-0.874870</td>\n",
       "      <td>-0.276082</td>\n",
       "      <td>1.621072</td>\n",
       "      <td>1.065711</td>\n",
       "      <td>-0.235039</td>\n",
       "    </tr>\n",
       "    <tr>\n",
       "      <th>...</th>\n",
       "      <td>...</td>\n",
       "      <td>...</td>\n",
       "      <td>...</td>\n",
       "      <td>...</td>\n",
       "      <td>...</td>\n",
       "    </tr>\n",
       "    <tr>\n",
       "      <th>510</th>\n",
       "      <td>1.573163</td>\n",
       "      <td>-0.188120</td>\n",
       "      <td>1.026024</td>\n",
       "      <td>-0.674860</td>\n",
       "      <td>1.143745</td>\n",
       "    </tr>\n",
       "    <tr>\n",
       "      <th>511</th>\n",
       "      <td>-0.964982</td>\n",
       "      <td>-0.346452</td>\n",
       "      <td>-0.759119</td>\n",
       "      <td>-0.674860</td>\n",
       "      <td>-0.894458</td>\n",
       "    </tr>\n",
       "    <tr>\n",
       "      <th>512</th>\n",
       "      <td>1.513088</td>\n",
       "      <td>-1.138113</td>\n",
       "      <td>0.921016</td>\n",
       "      <td>-0.193913</td>\n",
       "      <td>0.927935</td>\n",
       "    </tr>\n",
       "    <tr>\n",
       "      <th>513</th>\n",
       "      <td>-0.604535</td>\n",
       "      <td>0.445209</td>\n",
       "      <td>-1.669192</td>\n",
       "      <td>-0.400033</td>\n",
       "      <td>-1.122257</td>\n",
       "    </tr>\n",
       "    <tr>\n",
       "      <th>514</th>\n",
       "      <td>1.483051</td>\n",
       "      <td>0.621134</td>\n",
       "      <td>0.535985</td>\n",
       "      <td>-0.537447</td>\n",
       "      <td>2.018974</td>\n",
       "    </tr>\n",
       "  </tbody>\n",
       "</table>\n",
       "<p>515 rows × 5 columns</p>\n",
       "</div>"
      ],
      "text/plain": [
       "           DD  Withdrawals  Deposits  Branch Area in sqft  avg daily walkins\n",
       "0   -0.078884    -0.064973  1.026024            -1.087101           0.484326\n",
       "1   -1.640819    -1.138113 -0.584105             1.317635          -1.949528\n",
       "2    1.107586    -0.029788 -0.199074            -0.835176           0.844009\n",
       "3    0.281562    -0.680709  1.656075             1.638267           0.292496\n",
       "4   -0.874870    -0.276082  1.621072             1.065711          -0.235039\n",
       "..        ...          ...       ...                  ...                ...\n",
       "510  1.573163    -0.188120  1.026024            -0.674860           1.143745\n",
       "511 -0.964982    -0.346452 -0.759119            -0.674860          -0.894458\n",
       "512  1.513088    -1.138113  0.921016            -0.193913           0.927935\n",
       "513 -0.604535     0.445209 -1.669192            -0.400033          -1.122257\n",
       "514  1.483051     0.621134  0.535985            -0.537447           2.018974\n",
       "\n",
       "[515 rows x 5 columns]"
      ]
     },
     "execution_count": 15,
     "metadata": {},
     "output_type": "execute_result"
    }
   ],
   "source": [
    "scaled_df"
   ]
  },
  {
   "cell_type": "code",
   "execution_count": 16,
   "metadata": {
    "ExecuteTime": {
     "end_time": "2021-09-18T05:16:02.532281Z",
     "start_time": "2021-09-18T05:16:02.466872Z"
    }
   },
   "outputs": [
    {
     "data": {
      "text/html": [
       "<div>\n",
       "<style scoped>\n",
       "    .dataframe tbody tr th:only-of-type {\n",
       "        vertical-align: middle;\n",
       "    }\n",
       "\n",
       "    .dataframe tbody tr th {\n",
       "        vertical-align: top;\n",
       "    }\n",
       "\n",
       "    .dataframe thead th {\n",
       "        text-align: right;\n",
       "    }\n",
       "</style>\n",
       "<table border=\"1\" class=\"dataframe\">\n",
       "  <thead>\n",
       "    <tr style=\"text-align: right;\">\n",
       "      <th></th>\n",
       "      <th>DD</th>\n",
       "      <th>Withdrawals</th>\n",
       "      <th>Deposits</th>\n",
       "      <th>Branch Area in sqft</th>\n",
       "      <th>avg daily walkins</th>\n",
       "    </tr>\n",
       "  </thead>\n",
       "  <tbody>\n",
       "    <tr>\n",
       "      <th>count</th>\n",
       "      <td>515.00</td>\n",
       "      <td>515.00</td>\n",
       "      <td>515.00</td>\n",
       "      <td>515.00</td>\n",
       "      <td>515.00</td>\n",
       "    </tr>\n",
       "    <tr>\n",
       "      <th>mean</th>\n",
       "      <td>-0.00</td>\n",
       "      <td>-0.00</td>\n",
       "      <td>-0.00</td>\n",
       "      <td>0.00</td>\n",
       "      <td>0.00</td>\n",
       "    </tr>\n",
       "    <tr>\n",
       "      <th>std</th>\n",
       "      <td>1.00</td>\n",
       "      <td>1.00</td>\n",
       "      <td>1.00</td>\n",
       "      <td>1.00</td>\n",
       "      <td>1.00</td>\n",
       "    </tr>\n",
       "    <tr>\n",
       "      <th>min</th>\n",
       "      <td>-1.69</td>\n",
       "      <td>-2.48</td>\n",
       "      <td>-1.70</td>\n",
       "      <td>-3.97</td>\n",
       "      <td>-2.62</td>\n",
       "    </tr>\n",
       "    <tr>\n",
       "      <th>25%</th>\n",
       "      <td>-0.94</td>\n",
       "      <td>-0.84</td>\n",
       "      <td>-0.83</td>\n",
       "      <td>-0.59</td>\n",
       "      <td>-0.73</td>\n",
       "    </tr>\n",
       "    <tr>\n",
       "      <th>50%</th>\n",
       "      <td>0.07</td>\n",
       "      <td>0.02</td>\n",
       "      <td>-0.06</td>\n",
       "      <td>0.06</td>\n",
       "      <td>0.03</td>\n",
       "    </tr>\n",
       "    <tr>\n",
       "      <th>75%</th>\n",
       "      <td>0.88</td>\n",
       "      <td>0.87</td>\n",
       "      <td>0.82</td>\n",
       "      <td>0.84</td>\n",
       "      <td>0.71</td>\n",
       "    </tr>\n",
       "    <tr>\n",
       "      <th>max</th>\n",
       "      <td>1.77</td>\n",
       "      <td>1.69</td>\n",
       "      <td>4.56</td>\n",
       "      <td>1.64</td>\n",
       "      <td>2.87</td>\n",
       "    </tr>\n",
       "  </tbody>\n",
       "</table>\n",
       "</div>"
      ],
      "text/plain": [
       "           DD  Withdrawals  Deposits  Branch Area in sqft  avg daily walkins\n",
       "count  515.00       515.00    515.00               515.00             515.00\n",
       "mean    -0.00        -0.00     -0.00                 0.00               0.00\n",
       "std      1.00         1.00      1.00                 1.00               1.00\n",
       "min     -1.69        -2.48     -1.70                -3.97              -2.62\n",
       "25%     -0.94        -0.84     -0.83                -0.59              -0.73\n",
       "50%      0.07         0.02     -0.06                 0.06               0.03\n",
       "75%      0.88         0.87      0.82                 0.84               0.71\n",
       "max      1.77         1.69      4.56                 1.64               2.87"
      ]
     },
     "execution_count": 16,
     "metadata": {},
     "output_type": "execute_result"
    }
   ],
   "source": [
    "# mean should be zero and std should be 1 for all features post scaling\n",
    "\n",
    "scaled_df.describe().round(2)"
   ]
  },
  {
   "cell_type": "markdown",
   "metadata": {},
   "source": [
    "# Creating Clusters using KMeans"
   ]
  },
  {
   "cell_type": "markdown",
   "metadata": {},
   "source": [
    "## Forming 2 Clusters with K=2"
   ]
  },
  {
   "cell_type": "code",
   "execution_count": 17,
   "metadata": {
    "ExecuteTime": {
     "end_time": "2021-09-18T05:18:06.398261Z",
     "start_time": "2021-09-18T05:18:06.380763Z"
    }
   },
   "outputs": [],
   "source": [
    "# Create K Means cluster object and store it as k_means\n",
    "k_means = KMeans(n_clusters = 2,random_state=1)"
   ]
  },
  {
   "cell_type": "code",
   "execution_count": 18,
   "metadata": {
    "ExecuteTime": {
     "end_time": "2021-09-18T05:18:28.090607Z",
     "start_time": "2021-09-18T05:18:27.939871Z"
    }
   },
   "outputs": [
    {
     "data": {
      "text/plain": [
       "KMeans(n_clusters=2, random_state=1)"
      ]
     },
     "execution_count": 18,
     "metadata": {},
     "output_type": "execute_result"
    }
   ],
   "source": [
    "# Fit K means on the scaled_df\n",
    "k_means.fit(scaled_df)"
   ]
  },
  {
   "cell_type": "markdown",
   "metadata": {},
   "source": [
    "### Cluster Output for all the observations"
   ]
  },
  {
   "cell_type": "code",
   "execution_count": 19,
   "metadata": {
    "ExecuteTime": {
     "end_time": "2021-09-18T05:19:08.751281Z",
     "start_time": "2021-09-18T05:19:08.735329Z"
    }
   },
   "outputs": [
    {
     "data": {
      "text/plain": [
       "array([0, 1, 0, 1, 1, 0, 1, 0, 0, 0])"
      ]
     },
     "execution_count": 19,
     "metadata": {},
     "output_type": "execute_result"
    }
   ],
   "source": [
    "# Get the labels or cluster membership of each observation\n",
    "k_means.labels_[:10]"
   ]
  },
  {
   "cell_type": "markdown",
   "metadata": {},
   "source": [
    "### Within Cluster Sum of Squares(WSS)"
   ]
  },
  {
   "cell_type": "code",
   "execution_count": 20,
   "metadata": {
    "ExecuteTime": {
     "end_time": "2021-09-18T05:20:34.820734Z",
     "start_time": "2021-09-18T05:20:34.812757Z"
    }
   },
   "outputs": [
    {
     "data": {
      "text/plain": [
       "1943.3740862056484"
      ]
     },
     "execution_count": 20,
     "metadata": {},
     "output_type": "execute_result"
    }
   ],
   "source": [
    "k_means.inertia_ # WSS"
   ]
  },
  {
   "cell_type": "markdown",
   "metadata": {},
   "source": [
    "### Forming clusters with K = 1,3,4,5,6 and comparing the WSS"
   ]
  },
  {
   "cell_type": "code",
   "execution_count": 21,
   "metadata": {
    "ExecuteTime": {
     "end_time": "2021-09-18T05:22:50.304445Z",
     "start_time": "2021-09-18T05:22:48.756293Z"
    }
   },
   "outputs": [
    {
     "data": {
      "text/plain": [
       "2574.9999999999964"
      ]
     },
     "execution_count": 21,
     "metadata": {},
     "output_type": "execute_result"
    }
   ],
   "source": [
    "k_means = KMeans(n_clusters = 1,random_state=1)\n",
    "k_means.fit(scaled_df)\n",
    "k_means.inertia_"
   ]
  },
  {
   "cell_type": "code",
   "execution_count": 22,
   "metadata": {
    "ExecuteTime": {
     "end_time": "2021-09-18T05:22:57.473766Z",
     "start_time": "2021-09-18T05:22:57.331147Z"
    }
   },
   "outputs": [
    {
     "data": {
      "text/plain": [
       "1593.9708577192202"
      ]
     },
     "execution_count": 22,
     "metadata": {},
     "output_type": "execute_result"
    }
   ],
   "source": [
    "k_means = KMeans(n_clusters = 3,random_state=1)\n",
    "k_means.fit(scaled_df)\n",
    "k_means.inertia_"
   ]
  },
  {
   "cell_type": "code",
   "execution_count": 23,
   "metadata": {
    "ExecuteTime": {
     "end_time": "2021-09-18T05:23:00.736388Z",
     "start_time": "2021-09-18T05:23:00.583798Z"
    }
   },
   "outputs": [
    {
     "data": {
      "text/plain": [
       "1375.4932875022535"
      ]
     },
     "execution_count": 23,
     "metadata": {},
     "output_type": "execute_result"
    }
   ],
   "source": [
    "k_means = KMeans(n_clusters = 4,random_state=1)\n",
    "k_means.fit(scaled_df)\n",
    "k_means.inertia_"
   ]
  },
  {
   "cell_type": "code",
   "execution_count": 24,
   "metadata": {
    "ExecuteTime": {
     "end_time": "2021-09-18T05:23:07.272112Z",
     "start_time": "2021-09-18T05:23:07.117524Z"
    }
   },
   "outputs": [
    {
     "data": {
      "text/plain": [
       "1220.2742967592983"
      ]
     },
     "execution_count": 24,
     "metadata": {},
     "output_type": "execute_result"
    }
   ],
   "source": [
    "k_means = KMeans(n_clusters = 5,random_state=1)\n",
    "k_means.fit(scaled_df)\n",
    "k_means.inertia_"
   ]
  },
  {
   "cell_type": "code",
   "execution_count": 25,
   "metadata": {
    "ExecuteTime": {
     "end_time": "2021-09-18T05:23:11.464961Z",
     "start_time": "2021-09-18T05:23:11.247264Z"
    }
   },
   "outputs": [
    {
     "data": {
      "text/plain": [
       "1115.743872395149"
      ]
     },
     "execution_count": 25,
     "metadata": {},
     "output_type": "execute_result"
    }
   ],
   "source": [
    "k_means = KMeans(n_clusters = 6,random_state=1)\n",
    "k_means.fit(scaled_df)\n",
    "k_means.inertia_"
   ]
  },
  {
   "cell_type": "markdown",
   "metadata": {},
   "source": [
    "WSS reduces as K keeps increasing"
   ]
  },
  {
   "cell_type": "markdown",
   "metadata": {},
   "source": [
    "### Calculating WSS for other values of K - Elbow Method"
   ]
  },
  {
   "cell_type": "code",
   "execution_count": 26,
   "metadata": {
    "ExecuteTime": {
     "end_time": "2021-09-18T05:23:53.970637Z",
     "start_time": "2021-09-18T05:23:53.964612Z"
    }
   },
   "outputs": [],
   "source": [
    "wss =[] "
   ]
  },
  {
   "cell_type": "code",
   "execution_count": 27,
   "metadata": {
    "ExecuteTime": {
     "end_time": "2021-09-18T05:25:01.933022Z",
     "start_time": "2021-09-18T05:24:58.218845Z"
    }
   },
   "outputs": [],
   "source": [
    "for i in range(1,11):\n",
    "    KM = KMeans(n_clusters=i,random_state=1)\n",
    "    KM.fit(scaled_df)\n",
    "    wss.append(KM.inertia_)"
   ]
  },
  {
   "cell_type": "code",
   "execution_count": 28,
   "metadata": {
    "ExecuteTime": {
     "end_time": "2021-09-18T05:25:06.870777Z",
     "start_time": "2021-09-18T05:25:06.863797Z"
    }
   },
   "outputs": [
    {
     "data": {
      "text/plain": [
       "[2574.9999999999964,\n",
       " 1943.3740862056484,\n",
       " 1593.9708577192202,\n",
       " 1375.4932875022535,\n",
       " 1220.2742967592983,\n",
       " 1115.743872395149,\n",
       " 1024.2940640357656,\n",
       " 945.0390781132705,\n",
       " 886.3657321414203,\n",
       " 832.7774003606155]"
      ]
     },
     "execution_count": 28,
     "metadata": {},
     "output_type": "execute_result"
    }
   ],
   "source": [
    "wss"
   ]
  },
  {
   "cell_type": "code",
   "execution_count": 29,
   "metadata": {
    "ExecuteTime": {
     "end_time": "2021-09-18T05:25:47.613058Z",
     "start_time": "2021-09-18T05:25:47.093205Z"
    }
   },
   "outputs": [
    {
     "data": {
      "image/png": "[encoded data removed]",
      "text/plain": [
       "<Figure size 432x288 with 1 Axes>"
      ]
     },
     "metadata": {},
     "output_type": "display_data"
    }
   ],
   "source": [
    "plt.plot(range(1,11), wss, marker = 'o');"
   ]
  },
  {
   "cell_type": "markdown",
   "metadata": {},
   "source": [
    "# KMeans with K=3"
   ]
  },
  {
   "cell_type": "code",
   "execution_count": 30,
   "metadata": {
    "ExecuteTime": {
     "end_time": "2021-09-18T05:28:09.136843Z",
     "start_time": "2021-09-18T05:28:08.949350Z"
    }
   },
   "outputs": [],
   "source": [
    "k_means = KMeans(n_clusters = 3,random_state=1)\n",
    "k_means.fit(scaled_df)\n",
    "labels = k_means.labels_"
   ]
  },
  {
   "cell_type": "markdown",
   "metadata": {},
   "source": [
    "## Cluster evaluation for 3 clusters: the silhouette score"
   ]
  },
  {
   "cell_type": "code",
   "execution_count": 31,
   "metadata": {
    "ExecuteTime": {
     "end_time": "2021-09-18T05:29:00.835144Z",
     "start_time": "2021-09-18T05:29:00.816193Z"
    }
   },
   "outputs": [],
   "source": [
    "from sklearn.metrics import silhouette_samples, silhouette_score"
   ]
  },
  {
   "cell_type": "code",
   "execution_count": 32,
   "metadata": {
    "ExecuteTime": {
     "end_time": "2021-09-18T05:29:36.905791Z",
     "start_time": "2021-09-18T05:29:36.875870Z"
    }
   },
   "outputs": [
    {
     "data": {
      "text/plain": [
       "0.218819843712231"
      ]
     },
     "execution_count": 32,
     "metadata": {},
     "output_type": "execute_result"
    }
   ],
   "source": [
    "# silhouette_score --> overall clusters quality, closer to 1 the better\n",
    "silhouette_score(scaled_df,labels)"
   ]
  },
  {
   "cell_type": "code",
   "execution_count": 33,
   "metadata": {
    "ExecuteTime": {
     "end_time": "2021-09-18T05:30:56.001284Z",
     "start_time": "2021-09-18T05:30:55.962386Z"
    }
   },
   "outputs": [
    {
     "data": {
      "text/plain": [
       "array([0.18585072, 0.27388886, 0.05963609, 0.20013532, 0.13098507,\n",
       "       0.01439404, 0.27967759, 0.1166913 , 0.18469591, 0.18723267])"
      ]
     },
     "execution_count": 33,
     "metadata": {},
     "output_type": "execute_result"
    }
   ],
   "source": [
    "# silouette_sample --> for 'a' particular observation, how close it is to its cluster centroid\n",
    "silhouette_samples(scaled_df,labels)[:10] # for 1st 10 observations in data"
   ]
  },
  {
   "cell_type": "markdown",
   "metadata": {},
   "source": [
    "# KMeans with K=4"
   ]
  },
  {
   "cell_type": "code",
   "execution_count": 34,
   "metadata": {
    "ExecuteTime": {
     "end_time": "2021-09-18T05:31:21.051441Z",
     "start_time": "2021-09-18T05:31:20.818819Z"
    }
   },
   "outputs": [],
   "source": [
    "k_means = KMeans(n_clusters = 4,random_state=1)\n",
    "k_means.fit(scaled_df)\n",
    "labels = k_means.labels_"
   ]
  },
  {
   "cell_type": "markdown",
   "metadata": {},
   "source": [
    "## Cluster evaluation for 4 clusters"
   ]
  },
  {
   "cell_type": "code",
   "execution_count": 35,
   "metadata": {
    "ExecuteTime": {
     "end_time": "2021-09-18T05:31:40.262210Z",
     "start_time": "2021-09-18T05:31:40.230252Z"
    }
   },
   "outputs": [
    {
     "data": {
      "text/plain": [
       "0.22755082117068726"
      ]
     },
     "execution_count": 35,
     "metadata": {},
     "output_type": "execute_result"
    }
   ],
   "source": [
    "silhouette_score(scaled_df,labels)"
   ]
  },
  {
   "cell_type": "markdown",
   "metadata": {},
   "source": [
    "# Check for multiple K-values in loop"
   ]
  },
  {
   "cell_type": "code",
   "execution_count": 36,
   "metadata": {
    "ExecuteTime": {
     "end_time": "2021-09-18T05:33:49.426801Z",
     "start_time": "2021-09-18T05:33:47.388083Z"
    }
   },
   "outputs": [],
   "source": [
    "ss = []\n",
    "for k in range(2,11):\n",
    "    sil_km = KMeans(n_clusters=k, random_state=1)\n",
    "    sil_km.fit(scaled_df)\n",
    "    labels = sil_km.labels_\n",
    "    ss.append(silhouette_score(scaled_df,labels))"
   ]
  },
  {
   "cell_type": "code",
   "execution_count": 37,
   "metadata": {
    "ExecuteTime": {
     "end_time": "2021-09-18T05:33:54.222790Z",
     "start_time": "2021-09-18T05:33:53.568900Z"
    }
   },
   "outputs": [
    {
     "data": {
      "image/png": "[encoded data removed]",
      "text/plain": [
       "<Figure size 432x288 with 1 Axes>"
      ]
     },
     "metadata": {},
     "output_type": "display_data"
    }
   ],
   "source": [
    "plt.plot(range(2,11),ss,marker ='o')\n",
    "plt.xlabel('No. of clusters - K')\n",
    "plt.ylabel('Silhoutte Scores');"
   ]
  },
  {
   "cell_type": "markdown",
   "metadata": {},
   "source": [
    "silhouette score is better for 5 clusters than for other cluster numbers. So, final number of clusters we will take as 5."
   ]
  },
  {
   "cell_type": "code",
   "execution_count": 38,
   "metadata": {
    "ExecuteTime": {
     "end_time": "2021-09-18T05:38:28.893892Z",
     "start_time": "2021-09-18T05:38:28.721363Z"
    }
   },
   "outputs": [],
   "source": [
    "k_means = KMeans(n_clusters=5, random_state=1)\n",
    "k_means.fit(scaled_df)\n",
    "labels = k_means.labels_"
   ]
  },
  {
   "cell_type": "code",
   "execution_count": 39,
   "metadata": {
    "ExecuteTime": {
     "end_time": "2021-09-18T05:39:02.087113Z",
     "start_time": "2021-09-18T05:39:02.054019Z"
    }
   },
   "outputs": [
    {
     "data": {
      "text/html": [
       "<div>\n",
       "<style scoped>\n",
       "    .dataframe tbody tr th:only-of-type {\n",
       "        vertical-align: middle;\n",
       "    }\n",
       "\n",
       "    .dataframe tbody tr th {\n",
       "        vertical-align: top;\n",
       "    }\n",
       "\n",
       "    .dataframe thead th {\n",
       "        text-align: right;\n",
       "    }\n",
       "</style>\n",
       "<table border=\"1\" class=\"dataframe\">\n",
       "  <thead>\n",
       "    <tr style=\"text-align: right;\">\n",
       "      <th></th>\n",
       "      <th>Bank</th>\n",
       "      <th>DD</th>\n",
       "      <th>Withdrawals</th>\n",
       "      <th>Deposits</th>\n",
       "      <th>Branch Area in sqft</th>\n",
       "      <th>avg daily walkins</th>\n",
       "      <th>Clus_kmeans5</th>\n",
       "    </tr>\n",
       "  </thead>\n",
       "  <tbody>\n",
       "    <tr>\n",
       "      <th>0</th>\n",
       "      <td>1</td>\n",
       "      <td>227</td>\n",
       "      <td>147</td>\n",
       "      <td>111</td>\n",
       "      <td>2460</td>\n",
       "      <td>639</td>\n",
       "      <td>4</td>\n",
       "    </tr>\n",
       "    <tr>\n",
       "      <th>1</th>\n",
       "      <td>2</td>\n",
       "      <td>123</td>\n",
       "      <td>86</td>\n",
       "      <td>65</td>\n",
       "      <td>3510</td>\n",
       "      <td>436</td>\n",
       "      <td>3</td>\n",
       "    </tr>\n",
       "    <tr>\n",
       "      <th>2</th>\n",
       "      <td>3</td>\n",
       "      <td>306</td>\n",
       "      <td>149</td>\n",
       "      <td>76</td>\n",
       "      <td>2570</td>\n",
       "      <td>669</td>\n",
       "      <td>1</td>\n",
       "    </tr>\n",
       "    <tr>\n",
       "      <th>3</th>\n",
       "      <td>4</td>\n",
       "      <td>251</td>\n",
       "      <td>112</td>\n",
       "      <td>129</td>\n",
       "      <td>3650</td>\n",
       "      <td>623</td>\n",
       "      <td>4</td>\n",
       "    </tr>\n",
       "    <tr>\n",
       "      <th>4</th>\n",
       "      <td>5</td>\n",
       "      <td>174</td>\n",
       "      <td>135</td>\n",
       "      <td>128</td>\n",
       "      <td>3400</td>\n",
       "      <td>579</td>\n",
       "      <td>4</td>\n",
       "    </tr>\n",
       "  </tbody>\n",
       "</table>\n",
       "</div>"
      ],
      "text/plain": [
       "   Bank   DD  Withdrawals  Deposits  Branch Area in sqft  avg daily walkins  \\\n",
       "0     1  227          147       111                 2460                639   \n",
       "1     2  123           86        65                 3510                436   \n",
       "2     3  306          149        76                 2570                669   \n",
       "3     4  251          112       129                 3650                623   \n",
       "4     5  174          135       128                 3400                579   \n",
       "\n",
       "   Clus_kmeans5  \n",
       "0             4  \n",
       "1             3  \n",
       "2             1  \n",
       "3             4  \n",
       "4             4  "
      ]
     },
     "execution_count": 39,
     "metadata": {},
     "output_type": "execute_result"
    }
   ],
   "source": [
    "# Appending Clusters labels to the original dataset\n",
    "data_df[\"Clus_kmeans5\"] = labels\n",
    "data_df.head()"
   ]
  },
  {
   "cell_type": "markdown",
   "metadata": {},
   "source": [
    "# Cluster Profiling"
   ]
  },
  {
   "cell_type": "code",
   "execution_count": 40,
   "metadata": {
    "ExecuteTime": {
     "end_time": "2021-09-18T05:39:15.761805Z",
     "start_time": "2021-09-18T05:39:15.745847Z"
    }
   },
   "outputs": [
    {
     "data": {
      "text/plain": [
       "0    132\n",
       "1    104\n",
       "2    106\n",
       "3     88\n",
       "4     85\n",
       "Name: Clus_kmeans5, dtype: int64"
      ]
     },
     "execution_count": 40,
     "metadata": {},
     "output_type": "execute_result"
    }
   ],
   "source": [
    "data_df.Clus_kmeans5.value_counts().sort_index()"
   ]
  },
  {
   "cell_type": "code",
   "execution_count": 41,
   "metadata": {
    "ExecuteTime": {
     "end_time": "2021-09-18T05:40:31.645845Z",
     "start_time": "2021-09-18T05:40:31.605396Z"
    }
   },
   "outputs": [
    {
     "data": {
      "text/html": [
       "<div>\n",
       "<style scoped>\n",
       "    .dataframe tbody tr th:only-of-type {\n",
       "        vertical-align: middle;\n",
       "    }\n",
       "\n",
       "    .dataframe tbody tr th {\n",
       "        vertical-align: top;\n",
       "    }\n",
       "\n",
       "    .dataframe thead th {\n",
       "        text-align: right;\n",
       "    }\n",
       "</style>\n",
       "<table border=\"1\" class=\"dataframe\">\n",
       "  <thead>\n",
       "    <tr style=\"text-align: right;\">\n",
       "      <th></th>\n",
       "      <th>DD</th>\n",
       "      <th>Withdrawals</th>\n",
       "      <th>Deposits</th>\n",
       "      <th>Branch Area in sqft</th>\n",
       "      <th>avg daily walkins</th>\n",
       "    </tr>\n",
       "    <tr>\n",
       "      <th>Clus_kmeans5</th>\n",
       "      <th></th>\n",
       "      <th></th>\n",
       "      <th></th>\n",
       "      <th></th>\n",
       "      <th></th>\n",
       "    </tr>\n",
       "  </thead>\n",
       "  <tbody>\n",
       "    <tr>\n",
       "      <th>0</th>\n",
       "      <td>295.378788</td>\n",
       "      <td>106.636364</td>\n",
       "      <td>72.325758</td>\n",
       "      <td>3116.060606</td>\n",
       "      <td>606.606061</td>\n",
       "    </tr>\n",
       "    <tr>\n",
       "      <th>1</th>\n",
       "      <td>285.326923</td>\n",
       "      <td>197.894231</td>\n",
       "      <td>84.490385</td>\n",
       "      <td>2517.211538</td>\n",
       "      <td>700.663462</td>\n",
       "    </tr>\n",
       "    <tr>\n",
       "      <th>2</th>\n",
       "      <td>181.745283</td>\n",
       "      <td>189.896226</td>\n",
       "      <td>57.103774</td>\n",
       "      <td>2983.490566</td>\n",
       "      <td>563.311321</td>\n",
       "    </tr>\n",
       "    <tr>\n",
       "      <th>3</th>\n",
       "      <td>169.136364</td>\n",
       "      <td>89.625000</td>\n",
       "      <td>90.579545</td>\n",
       "      <td>3005.056818</td>\n",
       "      <td>484.147727</td>\n",
       "    </tr>\n",
       "    <tr>\n",
       "      <th>4</th>\n",
       "      <td>197.611765</td>\n",
       "      <td>175.694118</td>\n",
       "      <td>114.247059</td>\n",
       "      <td>3030.000000</td>\n",
       "      <td>623.811765</td>\n",
       "    </tr>\n",
       "  </tbody>\n",
       "</table>\n",
       "</div>"
      ],
      "text/plain": [
       "                      DD  Withdrawals    Deposits  Branch Area in sqft  \\\n",
       "Clus_kmeans5                                                             \n",
       "0             295.378788   106.636364   72.325758          3116.060606   \n",
       "1             285.326923   197.894231   84.490385          2517.211538   \n",
       "2             181.745283   189.896226   57.103774          2983.490566   \n",
       "3             169.136364    89.625000   90.579545          3005.056818   \n",
       "4             197.611765   175.694118  114.247059          3030.000000   \n",
       "\n",
       "              avg daily walkins  \n",
       "Clus_kmeans5                     \n",
       "0                    606.606061  \n",
       "1                    700.663462  \n",
       "2                    563.311321  \n",
       "3                    484.147727  \n",
       "4                    623.811765  "
      ]
     },
     "execution_count": 41,
     "metadata": {},
     "output_type": "execute_result"
    }
   ],
   "source": [
    "clust_profile=data_df.drop(['Bank'],axis=1) # dropping bank sl.no as we dont want to use it in caculations\n",
    "clust_profile=clust_profile.groupby('Clus_kmeans5').mean()\n",
    "clust_profile"
   ]
  },
  {
   "cell_type": "code",
   "execution_count": 42,
   "metadata": {
    "ExecuteTime": {
     "end_time": "2021-09-18T05:40:46.814790Z",
     "start_time": "2021-09-18T05:40:46.774496Z"
    }
   },
   "outputs": [
    {
     "data": {
      "text/html": [
       "<div>\n",
       "<style scoped>\n",
       "    .dataframe tbody tr th:only-of-type {\n",
       "        vertical-align: middle;\n",
       "    }\n",
       "\n",
       "    .dataframe tbody tr th {\n",
       "        vertical-align: top;\n",
       "    }\n",
       "\n",
       "    .dataframe thead th {\n",
       "        text-align: right;\n",
       "    }\n",
       "</style>\n",
       "<table border=\"1\" class=\"dataframe\">\n",
       "  <thead>\n",
       "    <tr style=\"text-align: right;\">\n",
       "      <th></th>\n",
       "      <th>DD</th>\n",
       "      <th>Withdrawals</th>\n",
       "      <th>Deposits</th>\n",
       "      <th>Branch Area in sqft</th>\n",
       "      <th>avg daily walkins</th>\n",
       "    </tr>\n",
       "    <tr>\n",
       "      <th>Clus_kmeans5</th>\n",
       "      <th></th>\n",
       "      <th></th>\n",
       "      <th></th>\n",
       "      <th></th>\n",
       "      <th></th>\n",
       "    </tr>\n",
       "  </thead>\n",
       "  <tbody>\n",
       "    <tr>\n",
       "      <th>0</th>\n",
       "      <td>295.0</td>\n",
       "      <td>107.0</td>\n",
       "      <td>72.0</td>\n",
       "      <td>3116.0</td>\n",
       "      <td>607.0</td>\n",
       "    </tr>\n",
       "    <tr>\n",
       "      <th>1</th>\n",
       "      <td>285.0</td>\n",
       "      <td>198.0</td>\n",
       "      <td>84.0</td>\n",
       "      <td>2517.0</td>\n",
       "      <td>701.0</td>\n",
       "    </tr>\n",
       "    <tr>\n",
       "      <th>2</th>\n",
       "      <td>182.0</td>\n",
       "      <td>190.0</td>\n",
       "      <td>57.0</td>\n",
       "      <td>2983.0</td>\n",
       "      <td>563.0</td>\n",
       "    </tr>\n",
       "    <tr>\n",
       "      <th>3</th>\n",
       "      <td>169.0</td>\n",
       "      <td>90.0</td>\n",
       "      <td>91.0</td>\n",
       "      <td>3005.0</td>\n",
       "      <td>484.0</td>\n",
       "    </tr>\n",
       "    <tr>\n",
       "      <th>4</th>\n",
       "      <td>198.0</td>\n",
       "      <td>176.0</td>\n",
       "      <td>114.0</td>\n",
       "      <td>3030.0</td>\n",
       "      <td>624.0</td>\n",
       "    </tr>\n",
       "  </tbody>\n",
       "</table>\n",
       "</div>"
      ],
      "text/plain": [
       "                 DD  Withdrawals  Deposits  Branch Area in sqft  \\\n",
       "Clus_kmeans5                                                      \n",
       "0             295.0        107.0      72.0               3116.0   \n",
       "1             285.0        198.0      84.0               2517.0   \n",
       "2             182.0        190.0      57.0               2983.0   \n",
       "3             169.0         90.0      91.0               3005.0   \n",
       "4             198.0        176.0     114.0               3030.0   \n",
       "\n",
       "              avg daily walkins  \n",
       "Clus_kmeans5                     \n",
       "0                         607.0  \n",
       "1                         701.0  \n",
       "2                         563.0  \n",
       "3                         484.0  \n",
       "4                         624.0  "
      ]
     },
     "execution_count": 42,
     "metadata": {},
     "output_type": "execute_result"
    }
   ],
   "source": [
    "clust_profile.round(0)"
   ]
  },
  {
   "cell_type": "code",
   "execution_count": 43,
   "metadata": {
    "ExecuteTime": {
     "end_time": "2021-09-18T05:54:56.810466Z",
     "start_time": "2021-09-18T05:54:56.760754Z"
    }
   },
   "outputs": [
    {
     "data": {
      "text/html": [
       "<div>\n",
       "<style scoped>\n",
       "    .dataframe tbody tr th:only-of-type {\n",
       "        vertical-align: middle;\n",
       "    }\n",
       "\n",
       "    .dataframe tbody tr th {\n",
       "        vertical-align: top;\n",
       "    }\n",
       "\n",
       "    .dataframe thead th {\n",
       "        text-align: right;\n",
       "    }\n",
       "</style>\n",
       "<table border=\"1\" class=\"dataframe\">\n",
       "  <thead>\n",
       "    <tr style=\"text-align: right;\">\n",
       "      <th></th>\n",
       "      <th>DD</th>\n",
       "      <th>Withdrawals</th>\n",
       "      <th>Deposits</th>\n",
       "      <th>Branch Area in sqft</th>\n",
       "      <th>avg daily walkins</th>\n",
       "      <th>freq</th>\n",
       "    </tr>\n",
       "    <tr>\n",
       "      <th>Clus_kmeans5</th>\n",
       "      <th></th>\n",
       "      <th></th>\n",
       "      <th></th>\n",
       "      <th></th>\n",
       "      <th></th>\n",
       "      <th></th>\n",
       "    </tr>\n",
       "  </thead>\n",
       "  <tbody>\n",
       "    <tr>\n",
       "      <th>0</th>\n",
       "      <td>295.0</td>\n",
       "      <td>107.0</td>\n",
       "      <td>72.0</td>\n",
       "      <td>3116.0</td>\n",
       "      <td>607.0</td>\n",
       "      <td>132</td>\n",
       "    </tr>\n",
       "    <tr>\n",
       "      <th>1</th>\n",
       "      <td>285.0</td>\n",
       "      <td>198.0</td>\n",
       "      <td>84.0</td>\n",
       "      <td>2517.0</td>\n",
       "      <td>701.0</td>\n",
       "      <td>104</td>\n",
       "    </tr>\n",
       "    <tr>\n",
       "      <th>2</th>\n",
       "      <td>182.0</td>\n",
       "      <td>190.0</td>\n",
       "      <td>57.0</td>\n",
       "      <td>2983.0</td>\n",
       "      <td>563.0</td>\n",
       "      <td>106</td>\n",
       "    </tr>\n",
       "    <tr>\n",
       "      <th>3</th>\n",
       "      <td>169.0</td>\n",
       "      <td>90.0</td>\n",
       "      <td>91.0</td>\n",
       "      <td>3005.0</td>\n",
       "      <td>484.0</td>\n",
       "      <td>88</td>\n",
       "    </tr>\n",
       "    <tr>\n",
       "      <th>4</th>\n",
       "      <td>198.0</td>\n",
       "      <td>176.0</td>\n",
       "      <td>114.0</td>\n",
       "      <td>3030.0</td>\n",
       "      <td>624.0</td>\n",
       "      <td>85</td>\n",
       "    </tr>\n",
       "  </tbody>\n",
       "</table>\n",
       "</div>"
      ],
      "text/plain": [
       "                 DD  Withdrawals  Deposits  Branch Area in sqft  \\\n",
       "Clus_kmeans5                                                      \n",
       "0             295.0        107.0      72.0               3116.0   \n",
       "1             285.0        198.0      84.0               2517.0   \n",
       "2             182.0        190.0      57.0               2983.0   \n",
       "3             169.0         90.0      91.0               3005.0   \n",
       "4             198.0        176.0     114.0               3030.0   \n",
       "\n",
       "              avg daily walkins  freq  \n",
       "Clus_kmeans5                           \n",
       "0                         607.0   132  \n",
       "1                         701.0   104  \n",
       "2                         563.0   106  \n",
       "3                         484.0    88  \n",
       "4                         624.0    85  "
      ]
     },
     "execution_count": 43,
     "metadata": {},
     "output_type": "execute_result"
    }
   ],
   "source": [
    "clust_profile['freq']=data_df.Clus_kmeans5.value_counts().sort_index()\n",
    "clust_profile.round(0)"
   ]
  },
  {
   "cell_type": "markdown",
   "metadata": {},
   "source": [
    "# Observations & Recommendations"
   ]
  },
  {
   "cell_type": "markdown",
   "metadata": {},
   "source": [
    "- Cluster 0: large size branch with low withdrawals,medium walkins, highest DD issuance, and medium Deposits volumes --> <p style = \"font-weight:bold; color:tan;\">**move to a smaller premises to save operational cost, rent etc or improve customer base in nearby localities through door to door initiatives and camps in large residential complexes**</p>\n",
    "\n",
    "- Cluster 1: small size branch with very high walkins and with high withdrawals & high DD issuance volumes --> <p style = \"font-weight:bold; color:tan;\">**promote netbanking, reduce congestion and long queue at counters**</p>\n",
    "\n",
    "- Cluster 2: large size branch with less deposit but high withdrawals --><p style = \"font-weight:bold; color:tan;\"> **maybe salaried customers, promote debit/credit cards for payments so that they dont need to come to withdraw cash**</p>\n",
    "\n",
    "- Cluster 3: Large size branch but with lowest number of walkins with lowest withdrawals transactions and DD issuances --> <p style = \"font-weight:bold; color:tan;\">**move to a smaller premises to save operational cost, rent etc or improve customer base in nearby localities through door to door initiatives and camps in large residential complexes**</p>\n",
    "\n",
    "- Cluster 4: Large branch, medium walkins with high deposits and withdrawal volumes --><p style = \"font-weight:bold; color:tan;\"> **promote higher variants of accounts with higher transaction limits, promote use of cards for payments instead of cash withdrawals, install more ATMs at branch for withdrawals, install cash acceptance machines to reduce load and waiting time at counters**</p>"
   ]
  },
  {
   "cell_type": "markdown",
   "metadata": {},
   "source": [
    "<p style = \"font-size: 40px; color:gold; font-weight:bold\">Great Learning !!</p>"
   ]
  }
 ],
 "metadata": {
  "kernelspec": {
   "display_name": "Python 3 (ipykernel)",
   "language": "python",
   "name": "python3"
  },
  "language_info": {
   "codemirror_mode": {
    "name": "ipython",
    "version": 3
   },
   "file_extension": ".py",
   "mimetype": "text/x-python",
   "name": "python",
   "nbconvert_exporter": "python",
   "pygments_lexer": "ipython3",
   "version": "3.9.12"
  },
  "latex_envs": {
   "LaTeX_envs_menu_present": true,
   "autoclose": false,
   "autocomplete": true,
   "bibliofile": "biblio.bib",
   "cite_by": "apalike",
   "current_citInitial": 1,
   "eqLabelWithNumbers": true,
   "eqNumInitial": 1,
   "hotkeys": {
    "equation": "Ctrl-E",
    "itemize": "Ctrl-I"
   },
   "labels_anchors": false,
   "latex_user_defs": false,
   "report_style_numbering": false,
   "user_envs_cfg": false
  },
  "toc": {
   "base_numbering": 1,
   "nav_menu": {},
   "number_sections": true,
   "sideBar": true,
   "skip_h1_title": false,
   "title_cell": "Table of Contents",
   "title_sidebar": "Contents",
   "toc_cell": false,
   "toc_position": {},
   "toc_section_display": true,
   "toc_window_display": false
  },
  "toc-autonumbering": true,
  "varInspector": {
   "cols": {
    "lenName": 16,
    "lenType": 16,
    "lenVar": 40
   },
   "kernels_config": {
    "python": {
     "delete_cmd_postfix": "",
     "delete_cmd_prefix": "del ",
     "library": "var_list.py",
     "varRefreshCmd": "print(var_dic_list())"
    },
    "r": {
     "delete_cmd_postfix": ") ",
     "delete_cmd_prefix": "rm(",
     "library": "var_list.r",
     "varRefreshCmd": "cat(var_dic_list()) "
    }
   },
   "types_to_exclude": [
    "module",
    "function",
    "builtin_function_or_method",
    "instance",
    "_Feature"
   ],
   "window_display": false
  }
 },
 "nbformat": 4,
 "nbformat_minor": 4
}
